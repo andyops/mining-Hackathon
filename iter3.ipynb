{
 "cells": [
  {
   "cell_type": "code",
   "execution_count": 1,
   "metadata": {},
   "outputs": [],
   "source": [
    "import pandas as pd\n",
    "import numpy as np\n",
    "from datetime import datetime\n",
    "import matplotlib.pyplot as plt\n",
    "import seaborn as sns\n",
    "\n",
    "# For machine learning\n",
    "from sklearn.model_selection import train_test_split\n",
    "from sklearn.preprocessing import LabelEncoder, StandardScaler\n",
    "from sklearn.ensemble import RandomForestClassifier\n",
    "from sklearn.metrics import f1_score, classification_report\n",
    "import lightgbm as lgb\n",
    "\n",
    "# To suppress warnings\n",
    "import warnings\n",
    "warnings.filterwarnings('ignore')\n"
   ]
  },
  {
   "cell_type": "code",
   "execution_count": 2,
   "metadata": {},
   "outputs": [],
   "source": [
    "# Load telemetry training data\n",
    "train = pd.read_csv('dataset/telemetry_for_operations_training.csv', parse_dates=['create_dt'])\n",
    "\n",
    "# Load labels training data\n",
    "labels = pd.read_csv('dataset/operations_labels_training.csv', parse_dates=['start_time', 'end_time'])\n",
    "\n",
    "# Load telemetry validation data\n",
    "val = pd.read_csv('dataset/telemetry_for_operations_validation.csv', parse_dates=['create_dt'])\n"
   ]
  },
  {
   "cell_type": "code",
   "execution_count": 3,
   "metadata": {},
   "outputs": [
    {
     "name": "stdout",
     "output_type": "stream",
     "text": [
      "Missing values in telemetry_train: 0\n",
      "Missing values in labels_train: 0\n",
      "Missing values in telemetry_val: 0\n"
     ]
    }
   ],
   "source": [
    "print(\"Missing values in telemetry_train:\", train.isnull().sum().sum())\n",
    "print(\"Missing values in labels_train:\", labels.isnull().sum().sum())\n",
    "print(\"Missing values in telemetry_val:\", val.isnull().sum().sum())\n"
   ]
  },
  {
   "cell_type": "code",
   "execution_count": 4,
   "metadata": {},
   "outputs": [],
   "source": [
    "# Already parsed dates during read_csv using parse_dates\n",
    "# Convert categorical columns if necessary\n",
    "train['mdm_object_name'] = train['mdm_object_name'].astype('category')\n",
    "labels['mdm_object_name'] = labels['mdm_object_name'].astype('category')\n",
    "val['mdm_object_name'] = val['mdm_object_name'].astype('category')"
   ]
  },
  {
   "cell_type": "code",
   "execution_count": 5,
   "metadata": {},
   "outputs": [
    {
     "name": "stdout",
     "output_type": "stream",
     "text": [
      "Number of rows in train before dropping: 516073\n",
      "Number of rows in train after dropping: 515774\n"
     ]
    }
   ],
   "source": [
    "# train count and drop lat and lon values greater than 180 and - 180\n",
    "print(\"Number of rows in train before dropping:\", train.shape[0])\n",
    "train = train[(train['lat'] <= 180) & (train['lat'] >= -180)]\n",
    "train = train[(train['lon'] <= 180) & (train['lon'] >= -180)]\n",
    "print(\"Number of rows in train after dropping:\", train.shape[0])"
   ]
  },
  {
   "cell_type": "code",
   "execution_count": 6,
   "metadata": {},
   "outputs": [
    {
     "data": {
      "text/plain": [
       "create_dt              object\n",
       "mdm_object_name      category\n",
       "mdm_model_id            int64\n",
       "lon                   float64\n",
       "lat                   float64\n",
       "alt                     int64\n",
       "speed_gps             float64\n",
       "direction             float64\n",
       "accel_forward_nn      float64\n",
       "accel_braking_nn      float64\n",
       "accel_angular_nn      float64\n",
       "accel_vertical_nn     float64\n",
       "dtype: object"
      ]
     },
     "execution_count": 6,
     "metadata": {},
     "output_type": "execute_result"
    }
   ],
   "source": [
    "train.dtypes"
   ]
  },
  {
   "cell_type": "code",
   "execution_count": 7,
   "metadata": {},
   "outputs": [
    {
     "data": {
      "text/plain": [
       "start_time           datetime64[ns]\n",
       "end_time             datetime64[ns]\n",
       "operation_kind_id             int64\n",
       "mdm_object_name            category\n",
       "name                         object\n",
       "dtype: object"
      ]
     },
     "execution_count": 7,
     "metadata": {},
     "output_type": "execute_result"
    }
   ],
   "source": [
    "labels.dtypes"
   ]
  },
  {
   "cell_type": "code",
   "execution_count": 8,
   "metadata": {},
   "outputs": [],
   "source": [
    "train['create_dt'] = pd.to_datetime(train['create_dt'] , format='mixed')"
   ]
  },
  {
   "cell_type": "code",
   "execution_count": 36,
   "metadata": {},
   "outputs": [],
   "source": [
    "val['create_dt'] = pd.to_datetime(val['create_dt'] , format='mixed')"
   ]
  },
  {
   "cell_type": "code",
   "execution_count": 9,
   "metadata": {},
   "outputs": [
    {
     "data": {
      "text/plain": [
       "Timestamp('2023-09-21 00:00:00')"
      ]
     },
     "execution_count": 9,
     "metadata": {},
     "output_type": "execute_result"
    }
   ],
   "source": [
    "train['create_dt'][116483]"
   ]
  },
  {
   "cell_type": "code",
   "execution_count": 10,
   "metadata": {},
   "outputs": [],
   "source": [
    "train = train.drop_duplicates()"
   ]
  },
  {
   "cell_type": "code",
   "execution_count": 11,
   "metadata": {},
   "outputs": [],
   "source": [
    "labels['start_time'] = pd.to_datetime(labels['start_time'])\n"
   ]
  },
  {
   "cell_type": "code",
   "execution_count": 12,
   "metadata": {},
   "outputs": [],
   "source": [
    "# Sort both dataframes by time\n",
    "train1 = train.sort_values(['mdm_object_name', 'create_dt']).reset_index(drop=True)"
   ]
  },
  {
   "cell_type": "code",
   "execution_count": 13,
   "metadata": {},
   "outputs": [],
   "source": [
    "labels1 = labels.sort_values(['mdm_object_name', 'start_time']).reset_index(drop=True)"
   ]
  },
  {
   "cell_type": "code",
   "execution_count": 14,
   "metadata": {},
   "outputs": [
    {
     "name": "stdout",
     "output_type": "stream",
     "text": [
      "create_dt            datetime64[ns]\n",
      "mdm_object_name            category\n",
      "mdm_model_id                  int64\n",
      "lon                         float64\n",
      "lat                         float64\n",
      "alt                           int64\n",
      "speed_gps                   float64\n",
      "direction                   float64\n",
      "accel_forward_nn            float64\n",
      "accel_braking_nn            float64\n",
      "accel_angular_nn            float64\n",
      "accel_vertical_nn           float64\n",
      "dtype: object\n",
      "start_time           datetime64[ns]\n",
      "end_time             datetime64[ns]\n",
      "operation_kind_id             int64\n",
      "mdm_object_name            category\n",
      "name                         object\n",
      "dtype: object\n"
     ]
    }
   ],
   "source": [
    "print(train1.dtypes)\n",
    "print(labels1.dtypes)"
   ]
  },
  {
   "cell_type": "code",
   "execution_count": 15,
   "metadata": {},
   "outputs": [
    {
     "data": {
      "text/html": [
       "<div>\n",
       "<style scoped>\n",
       "    .dataframe tbody tr th:only-of-type {\n",
       "        vertical-align: middle;\n",
       "    }\n",
       "\n",
       "    .dataframe tbody tr th {\n",
       "        vertical-align: top;\n",
       "    }\n",
       "\n",
       "    .dataframe thead th {\n",
       "        text-align: right;\n",
       "    }\n",
       "</style>\n",
       "<table border=\"1\" class=\"dataframe\">\n",
       "  <thead>\n",
       "    <tr style=\"text-align: right;\">\n",
       "      <th></th>\n",
       "      <th>create_dt</th>\n",
       "      <th>mdm_object_name</th>\n",
       "      <th>mdm_model_id</th>\n",
       "      <th>lon</th>\n",
       "      <th>lat</th>\n",
       "      <th>alt</th>\n",
       "      <th>speed_gps</th>\n",
       "      <th>direction</th>\n",
       "      <th>accel_forward_nn</th>\n",
       "      <th>accel_braking_nn</th>\n",
       "      <th>accel_angular_nn</th>\n",
       "      <th>accel_vertical_nn</th>\n",
       "    </tr>\n",
       "  </thead>\n",
       "  <tbody>\n",
       "    <tr>\n",
       "      <th>0</th>\n",
       "      <td>2023-09-26 08:00:12</td>\n",
       "      <td>119</td>\n",
       "      <td>61</td>\n",
       "      <td>0.007798</td>\n",
       "      <td>0.00168</td>\n",
       "      <td>-90</td>\n",
       "      <td>0.0</td>\n",
       "      <td>19.1</td>\n",
       "      <td>0.0</td>\n",
       "      <td>0.0</td>\n",
       "      <td>0.0</td>\n",
       "      <td>0.0</td>\n",
       "    </tr>\n",
       "    <tr>\n",
       "      <th>1</th>\n",
       "      <td>2023-09-26 08:00:17</td>\n",
       "      <td>119</td>\n",
       "      <td>61</td>\n",
       "      <td>0.007798</td>\n",
       "      <td>0.00168</td>\n",
       "      <td>-90</td>\n",
       "      <td>0.0</td>\n",
       "      <td>19.1</td>\n",
       "      <td>0.0</td>\n",
       "      <td>0.0</td>\n",
       "      <td>0.0</td>\n",
       "      <td>0.0</td>\n",
       "    </tr>\n",
       "    <tr>\n",
       "      <th>2</th>\n",
       "      <td>2023-09-26 08:00:22</td>\n",
       "      <td>119</td>\n",
       "      <td>61</td>\n",
       "      <td>0.007798</td>\n",
       "      <td>0.00168</td>\n",
       "      <td>-90</td>\n",
       "      <td>0.0</td>\n",
       "      <td>19.1</td>\n",
       "      <td>0.0</td>\n",
       "      <td>0.0</td>\n",
       "      <td>0.0</td>\n",
       "      <td>0.0</td>\n",
       "    </tr>\n",
       "    <tr>\n",
       "      <th>3</th>\n",
       "      <td>2023-09-26 08:00:27</td>\n",
       "      <td>119</td>\n",
       "      <td>61</td>\n",
       "      <td>0.007798</td>\n",
       "      <td>0.00168</td>\n",
       "      <td>-90</td>\n",
       "      <td>0.0</td>\n",
       "      <td>19.1</td>\n",
       "      <td>0.0</td>\n",
       "      <td>0.0</td>\n",
       "      <td>0.0</td>\n",
       "      <td>0.0</td>\n",
       "    </tr>\n",
       "    <tr>\n",
       "      <th>4</th>\n",
       "      <td>2023-09-26 08:00:32</td>\n",
       "      <td>119</td>\n",
       "      <td>61</td>\n",
       "      <td>0.007798</td>\n",
       "      <td>0.00168</td>\n",
       "      <td>-90</td>\n",
       "      <td>0.0</td>\n",
       "      <td>19.1</td>\n",
       "      <td>0.0</td>\n",
       "      <td>0.0</td>\n",
       "      <td>0.0</td>\n",
       "      <td>0.0</td>\n",
       "    </tr>\n",
       "  </tbody>\n",
       "</table>\n",
       "</div>"
      ],
      "text/plain": [
       "            create_dt mdm_object_name  mdm_model_id       lon      lat  alt   \n",
       "0 2023-09-26 08:00:12             119            61  0.007798  0.00168  -90  \\\n",
       "1 2023-09-26 08:00:17             119            61  0.007798  0.00168  -90   \n",
       "2 2023-09-26 08:00:22             119            61  0.007798  0.00168  -90   \n",
       "3 2023-09-26 08:00:27             119            61  0.007798  0.00168  -90   \n",
       "4 2023-09-26 08:00:32             119            61  0.007798  0.00168  -90   \n",
       "\n",
       "   speed_gps  direction  accel_forward_nn  accel_braking_nn  accel_angular_nn   \n",
       "0        0.0       19.1               0.0               0.0               0.0  \\\n",
       "1        0.0       19.1               0.0               0.0               0.0   \n",
       "2        0.0       19.1               0.0               0.0               0.0   \n",
       "3        0.0       19.1               0.0               0.0               0.0   \n",
       "4        0.0       19.1               0.0               0.0               0.0   \n",
       "\n",
       "   accel_vertical_nn  \n",
       "0                0.0  \n",
       "1                0.0  \n",
       "2                0.0  \n",
       "3                0.0  \n",
       "4                0.0  "
      ]
     },
     "execution_count": 15,
     "metadata": {},
     "output_type": "execute_result"
    }
   ],
   "source": [
    "#check if sorted correctly \n",
    "train1.head()"
   ]
  },
  {
   "cell_type": "code",
   "execution_count": 16,
   "metadata": {},
   "outputs": [
    {
     "data": {
      "text/html": [
       "<div>\n",
       "<style scoped>\n",
       "    .dataframe tbody tr th:only-of-type {\n",
       "        vertical-align: middle;\n",
       "    }\n",
       "\n",
       "    .dataframe tbody tr th {\n",
       "        vertical-align: top;\n",
       "    }\n",
       "\n",
       "    .dataframe thead th {\n",
       "        text-align: right;\n",
       "    }\n",
       "</style>\n",
       "<table border=\"1\" class=\"dataframe\">\n",
       "  <thead>\n",
       "    <tr style=\"text-align: right;\">\n",
       "      <th></th>\n",
       "      <th>start_time</th>\n",
       "      <th>end_time</th>\n",
       "      <th>operation_kind_id</th>\n",
       "      <th>mdm_object_name</th>\n",
       "      <th>name</th>\n",
       "    </tr>\n",
       "  </thead>\n",
       "  <tbody>\n",
       "    <tr>\n",
       "      <th>0</th>\n",
       "      <td>2023-09-26 08:00:12</td>\n",
       "      <td>2023-09-26 08:03:12</td>\n",
       "      <td>0</td>\n",
       "      <td>119</td>\n",
       "      <td>idle</td>\n",
       "    </tr>\n",
       "    <tr>\n",
       "      <th>1</th>\n",
       "      <td>2023-09-26 08:03:12</td>\n",
       "      <td>2023-09-26 08:08:11</td>\n",
       "      <td>1</td>\n",
       "      <td>119</td>\n",
       "      <td>loading</td>\n",
       "    </tr>\n",
       "    <tr>\n",
       "      <th>2</th>\n",
       "      <td>2023-09-26 08:08:11</td>\n",
       "      <td>2023-09-26 08:26:28</td>\n",
       "      <td>2</td>\n",
       "      <td>119</td>\n",
       "      <td>riding_loaded</td>\n",
       "    </tr>\n",
       "    <tr>\n",
       "      <th>3</th>\n",
       "      <td>2023-09-26 08:26:28</td>\n",
       "      <td>2023-09-26 08:26:58</td>\n",
       "      <td>3</td>\n",
       "      <td>119</td>\n",
       "      <td>unloading_lift</td>\n",
       "    </tr>\n",
       "    <tr>\n",
       "      <th>4</th>\n",
       "      <td>2023-09-26 08:27:30</td>\n",
       "      <td>2023-09-26 08:38:42</td>\n",
       "      <td>5</td>\n",
       "      <td>119</td>\n",
       "      <td>riding_empty</td>\n",
       "    </tr>\n",
       "  </tbody>\n",
       "</table>\n",
       "</div>"
      ],
      "text/plain": [
       "           start_time            end_time  operation_kind_id mdm_object_name   \n",
       "0 2023-09-26 08:00:12 2023-09-26 08:03:12                  0             119  \\\n",
       "1 2023-09-26 08:03:12 2023-09-26 08:08:11                  1             119   \n",
       "2 2023-09-26 08:08:11 2023-09-26 08:26:28                  2             119   \n",
       "3 2023-09-26 08:26:28 2023-09-26 08:26:58                  3             119   \n",
       "4 2023-09-26 08:27:30 2023-09-26 08:38:42                  5             119   \n",
       "\n",
       "             name  \n",
       "0            idle  \n",
       "1         loading  \n",
       "2   riding_loaded  \n",
       "3  unloading_lift  \n",
       "4    riding_empty  "
      ]
     },
     "execution_count": 16,
     "metadata": {},
     "output_type": "execute_result"
    }
   ],
   "source": [
    "labels1.head()"
   ]
  },
  {
   "cell_type": "code",
   "execution_count": 20,
   "metadata": {},
   "outputs": [],
   "source": [
    "train1= train1.sort_values(['create_dt']).reset_index(drop=True)"
   ]
  },
  {
   "cell_type": "code",
   "execution_count": 21,
   "metadata": {},
   "outputs": [],
   "source": [
    "labels1= labels1.sort_values(['start_time']).reset_index(drop=True)"
   ]
  },
  {
   "cell_type": "code",
   "execution_count": 22,
   "metadata": {},
   "outputs": [],
   "source": [
    "merged_train = pd.merge_asof(\n",
    "    train1,\n",
    "    labels1,\n",
    "    left_on='create_dt',\n",
    "    right_on='start_time',\n",
    "    by='mdm_object_name',\n",
    "    direction='backward',\n",
    "    allow_exact_matches=True\n",
    ")"
   ]
  },
  {
   "cell_type": "code",
   "execution_count": 23,
   "metadata": {},
   "outputs": [
    {
     "data": {
      "text/html": [
       "<div>\n",
       "<style scoped>\n",
       "    .dataframe tbody tr th:only-of-type {\n",
       "        vertical-align: middle;\n",
       "    }\n",
       "\n",
       "    .dataframe tbody tr th {\n",
       "        vertical-align: top;\n",
       "    }\n",
       "\n",
       "    .dataframe thead th {\n",
       "        text-align: right;\n",
       "    }\n",
       "</style>\n",
       "<table border=\"1\" class=\"dataframe\">\n",
       "  <thead>\n",
       "    <tr style=\"text-align: right;\">\n",
       "      <th></th>\n",
       "      <th>create_dt</th>\n",
       "      <th>mdm_object_name</th>\n",
       "      <th>mdm_model_id</th>\n",
       "      <th>lon</th>\n",
       "      <th>lat</th>\n",
       "      <th>alt</th>\n",
       "      <th>speed_gps</th>\n",
       "      <th>direction</th>\n",
       "      <th>accel_forward_nn</th>\n",
       "      <th>accel_braking_nn</th>\n",
       "      <th>accel_angular_nn</th>\n",
       "      <th>accel_vertical_nn</th>\n",
       "      <th>start_time</th>\n",
       "      <th>end_time</th>\n",
       "      <th>operation_kind_id</th>\n",
       "      <th>name</th>\n",
       "    </tr>\n",
       "  </thead>\n",
       "  <tbody>\n",
       "    <tr>\n",
       "      <th>0</th>\n",
       "      <td>2023-08-09 08:02:54</td>\n",
       "      <td>1038</td>\n",
       "      <td>62</td>\n",
       "      <td>0.005753</td>\n",
       "      <td>0.004778</td>\n",
       "      <td>-50</td>\n",
       "      <td>0.0</td>\n",
       "      <td>326.0</td>\n",
       "      <td>0.0</td>\n",
       "      <td>0.0</td>\n",
       "      <td>0.0</td>\n",
       "      <td>0.0</td>\n",
       "      <td>2023-08-09 08:02:54</td>\n",
       "      <td>2023-08-09 08:10:05</td>\n",
       "      <td>0</td>\n",
       "      <td>idle</td>\n",
       "    </tr>\n",
       "    <tr>\n",
       "      <th>1</th>\n",
       "      <td>2023-08-09 08:02:59</td>\n",
       "      <td>1038</td>\n",
       "      <td>62</td>\n",
       "      <td>0.005753</td>\n",
       "      <td>0.004778</td>\n",
       "      <td>-50</td>\n",
       "      <td>0.0</td>\n",
       "      <td>326.0</td>\n",
       "      <td>0.0</td>\n",
       "      <td>0.0</td>\n",
       "      <td>0.0</td>\n",
       "      <td>0.0</td>\n",
       "      <td>2023-08-09 08:02:54</td>\n",
       "      <td>2023-08-09 08:10:05</td>\n",
       "      <td>0</td>\n",
       "      <td>idle</td>\n",
       "    </tr>\n",
       "    <tr>\n",
       "      <th>2</th>\n",
       "      <td>2023-08-09 08:03:04</td>\n",
       "      <td>1038</td>\n",
       "      <td>62</td>\n",
       "      <td>0.005753</td>\n",
       "      <td>0.004778</td>\n",
       "      <td>-50</td>\n",
       "      <td>0.0</td>\n",
       "      <td>326.0</td>\n",
       "      <td>0.0</td>\n",
       "      <td>0.0</td>\n",
       "      <td>0.0</td>\n",
       "      <td>0.0</td>\n",
       "      <td>2023-08-09 08:02:54</td>\n",
       "      <td>2023-08-09 08:10:05</td>\n",
       "      <td>0</td>\n",
       "      <td>idle</td>\n",
       "    </tr>\n",
       "    <tr>\n",
       "      <th>3</th>\n",
       "      <td>2023-08-09 08:03:09</td>\n",
       "      <td>1038</td>\n",
       "      <td>62</td>\n",
       "      <td>0.005753</td>\n",
       "      <td>0.004778</td>\n",
       "      <td>-50</td>\n",
       "      <td>0.0</td>\n",
       "      <td>326.0</td>\n",
       "      <td>0.0</td>\n",
       "      <td>0.0</td>\n",
       "      <td>0.0</td>\n",
       "      <td>0.0</td>\n",
       "      <td>2023-08-09 08:02:54</td>\n",
       "      <td>2023-08-09 08:10:05</td>\n",
       "      <td>0</td>\n",
       "      <td>idle</td>\n",
       "    </tr>\n",
       "    <tr>\n",
       "      <th>4</th>\n",
       "      <td>2023-08-09 08:03:14</td>\n",
       "      <td>1038</td>\n",
       "      <td>62</td>\n",
       "      <td>0.005753</td>\n",
       "      <td>0.004778</td>\n",
       "      <td>-50</td>\n",
       "      <td>0.0</td>\n",
       "      <td>326.0</td>\n",
       "      <td>0.0</td>\n",
       "      <td>0.0</td>\n",
       "      <td>0.0</td>\n",
       "      <td>0.0</td>\n",
       "      <td>2023-08-09 08:02:54</td>\n",
       "      <td>2023-08-09 08:10:05</td>\n",
       "      <td>0</td>\n",
       "      <td>idle</td>\n",
       "    </tr>\n",
       "  </tbody>\n",
       "</table>\n",
       "</div>"
      ],
      "text/plain": [
       "            create_dt mdm_object_name  mdm_model_id       lon       lat  alt   \n",
       "0 2023-08-09 08:02:54            1038            62  0.005753  0.004778  -50  \\\n",
       "1 2023-08-09 08:02:59            1038            62  0.005753  0.004778  -50   \n",
       "2 2023-08-09 08:03:04            1038            62  0.005753  0.004778  -50   \n",
       "3 2023-08-09 08:03:09            1038            62  0.005753  0.004778  -50   \n",
       "4 2023-08-09 08:03:14            1038            62  0.005753  0.004778  -50   \n",
       "\n",
       "   speed_gps  direction  accel_forward_nn  accel_braking_nn  accel_angular_nn   \n",
       "0        0.0      326.0               0.0               0.0               0.0  \\\n",
       "1        0.0      326.0               0.0               0.0               0.0   \n",
       "2        0.0      326.0               0.0               0.0               0.0   \n",
       "3        0.0      326.0               0.0               0.0               0.0   \n",
       "4        0.0      326.0               0.0               0.0               0.0   \n",
       "\n",
       "   accel_vertical_nn          start_time            end_time   \n",
       "0                0.0 2023-08-09 08:02:54 2023-08-09 08:10:05  \\\n",
       "1                0.0 2023-08-09 08:02:54 2023-08-09 08:10:05   \n",
       "2                0.0 2023-08-09 08:02:54 2023-08-09 08:10:05   \n",
       "3                0.0 2023-08-09 08:02:54 2023-08-09 08:10:05   \n",
       "4                0.0 2023-08-09 08:02:54 2023-08-09 08:10:05   \n",
       "\n",
       "   operation_kind_id  name  \n",
       "0                  0  idle  \n",
       "1                  0  idle  \n",
       "2                  0  idle  \n",
       "3                  0  idle  \n",
       "4                  0  idle  "
      ]
     },
     "execution_count": 23,
     "metadata": {},
     "output_type": "execute_result"
    }
   ],
   "source": [
    "merged_train.head()"
   ]
  },
  {
   "cell_type": "code",
   "execution_count": 24,
   "metadata": {},
   "outputs": [
    {
     "name": "stdout",
     "output_type": "stream",
     "text": [
      "(500888, 12)\n",
      "(500888, 16)\n"
     ]
    }
   ],
   "source": [
    "print(train1.shape)\n",
    "print(merged_train.shape)"
   ]
  },
  {
   "cell_type": "code",
   "execution_count": 25,
   "metadata": {},
   "outputs": [],
   "source": [
    "# Assign operational state where create_dt <= end_time\n",
    "mask = merged_train['create_dt'] <= merged_train['end_time']\n",
    "merged_train = merged_train[mask]"
   ]
  },
  {
   "cell_type": "code",
   "execution_count": 26,
   "metadata": {},
   "outputs": [
    {
     "data": {
      "text/plain": [
       "(493215, 16)"
      ]
     },
     "execution_count": 26,
     "metadata": {},
     "output_type": "execute_result"
    }
   ],
   "source": [
    "merged_train.shape"
   ]
  },
  {
   "cell_type": "code",
   "execution_count": 27,
   "metadata": {},
   "outputs": [
    {
     "data": {
      "text/plain": [
       "create_dt            0\n",
       "mdm_object_name      0\n",
       "mdm_model_id         0\n",
       "lon                  0\n",
       "lat                  0\n",
       "alt                  0\n",
       "speed_gps            0\n",
       "direction            0\n",
       "accel_forward_nn     0\n",
       "accel_braking_nn     0\n",
       "accel_angular_nn     0\n",
       "accel_vertical_nn    0\n",
       "start_time           0\n",
       "end_time             0\n",
       "operation_kind_id    0\n",
       "name                 0\n",
       "dtype: int64"
      ]
     },
     "execution_count": 27,
     "metadata": {},
     "output_type": "execute_result"
    }
   ],
   "source": [
    "merged_train.isna().sum()"
   ]
  },
  {
   "cell_type": "code",
   "execution_count": 28,
   "metadata": {},
   "outputs": [
    {
     "data": {
      "text/plain": [
       "create_dt            datetime64[ns]\n",
       "mdm_object_name            category\n",
       "mdm_model_id                  int64\n",
       "lon                         float64\n",
       "lat                         float64\n",
       "alt                           int64\n",
       "speed_gps                   float64\n",
       "direction                   float64\n",
       "accel_forward_nn            float64\n",
       "accel_braking_nn            float64\n",
       "accel_angular_nn            float64\n",
       "accel_vertical_nn           float64\n",
       "start_time           datetime64[ns]\n",
       "end_time             datetime64[ns]\n",
       "operation_kind_id             int64\n",
       "name                         object\n",
       "dtype: object"
      ]
     },
     "execution_count": 28,
     "metadata": {},
     "output_type": "execute_result"
    }
   ],
   "source": [
    "merged_train.dtypes"
   ]
  },
  {
   "cell_type": "code",
   "execution_count": 29,
   "metadata": {},
   "outputs": [],
   "source": [
    "merged_train['month'] = merged_train['create_dt'].dt.month\n",
    "merged_train['day'] = merged_train['create_dt'].dt.day\n",
    "merged_train['hour'] = merged_train['create_dt'].dt.hour\n",
    "merged_train['minute'] = merged_train['create_dt'].dt.minute\n",
    "merged_train['second'] = merged_train['create_dt'].dt.second\n",
    "merged_train['day_of_week'] = merged_train['create_dt'].dt.dayofweek \n",
    "# Cyclical encoding for hour (repeat every 24 hours)\n",
    "merged_train['hour_sin'] = np.sin(2 * np.pi * merged_train['hour'] / 24)\n",
    "merged_train['hour_cos'] = np.cos(2 * np.pi * merged_train['hour'] / 24)\n",
    "\n",
    "# Cyclical encoding for day of the week (repeat every 7 days)\n",
    "merged_train['day_of_week_sin'] = np.sin(2 * np.pi * merged_train['day_of_week'] / 7)\n",
    "merged_train['day_of_week_cos'] = np.cos(2 * np.pi * merged_train['day_of_week'] / 7)\n"
   ]
  },
  {
   "cell_type": "code",
   "execution_count": 37,
   "metadata": {},
   "outputs": [],
   "source": [
    "val['month'] = val['create_dt'].dt.month\n",
    "val['day'] = val['create_dt'].dt.day\n",
    "val['hour'] = val['create_dt'].dt.hour\n",
    "val['minute'] = val['create_dt'].dt.minute\n",
    "val['second'] = val['create_dt'].dt.second\n",
    "val['day_of_week'] = val['create_dt'].dt.dayofweek \n",
    "#valncoding for hour (repeat every 24 hours)\n",
    "val['hour_sin'] = np.sin(2 * np.pi * val['hour'] / 24)\n",
    "val['hour_cos'] = np.cos(2 * np.pi * val['hour'] / 24)\n",
    "#valncoding for day of the week (repeat every 7 days)\n",
    "val['day_of_week_sin'] = np.sin(2 * np.pi * val['day_of_week'] / 7)\n",
    "val['day_of_week_cos'] = np.cos(2 * np.pi * val['day_of_week'] / 7)\n"
   ]
  },
  {
   "cell_type": "code",
   "execution_count": 38,
   "metadata": {},
   "outputs": [
    {
     "name": "stdout",
     "output_type": "stream",
     "text": [
      "(493215, 26)\n",
      "(260111, 22)\n"
     ]
    }
   ],
   "source": [
    "print(merged_train.shape)\n",
    "print(val.shape)"
   ]
  },
  {
   "cell_type": "code",
   "execution_count": 95,
   "metadata": {},
   "outputs": [
    {
     "ename": "KeyboardInterrupt",
     "evalue": "",
     "output_type": "error",
     "traceback": [
      "\u001b[1;31m---------------------------------------------------------------------------\u001b[0m",
      "\u001b[1;31mKeyboardInterrupt\u001b[0m                         Traceback (most recent call last)",
      "Cell \u001b[1;32mIn[95], line 12\u001b[0m\n\u001b[0;32m     10\u001b[0m \u001b[38;5;28;01mfor\u001b[39;00m n_clusters \u001b[38;5;129;01min\u001b[39;00m \u001b[38;5;28mrange\u001b[39m(\u001b[38;5;241m1\u001b[39m, \u001b[38;5;241m15\u001b[39m):\n\u001b[0;32m     11\u001b[0m     kmeans \u001b[38;5;241m=\u001b[39m KMeans(n_clusters\u001b[38;5;241m=\u001b[39mn_clusters, random_state\u001b[38;5;241m=\u001b[39m\u001b[38;5;241m42\u001b[39m)\n\u001b[1;32m---> 12\u001b[0m     kmeans\u001b[38;5;241m.\u001b[39mfit(X)\n\u001b[0;32m     13\u001b[0m     inertia\u001b[38;5;241m.\u001b[39mappend(kmeans\u001b[38;5;241m.\u001b[39minertia_)\n\u001b[0;32m     15\u001b[0m \u001b[38;5;66;03m# Plot the inertia values\u001b[39;00m\n",
      "File \u001b[1;32mc:\\Users\\Lenovo\\anaconda3\\Lib\\site-packages\\sklearn\\cluster\\_kmeans.py:1461\u001b[0m, in \u001b[0;36mKMeans.fit\u001b[1;34m(self, X, y, sample_weight)\u001b[0m\n\u001b[0;32m   1457\u001b[0m best_inertia, best_labels \u001b[38;5;241m=\u001b[39m \u001b[38;5;28;01mNone\u001b[39;00m, \u001b[38;5;28;01mNone\u001b[39;00m\n\u001b[0;32m   1459\u001b[0m \u001b[38;5;28;01mfor\u001b[39;00m i \u001b[38;5;129;01min\u001b[39;00m \u001b[38;5;28mrange\u001b[39m(\u001b[38;5;28mself\u001b[39m\u001b[38;5;241m.\u001b[39m_n_init):\n\u001b[0;32m   1460\u001b[0m     \u001b[38;5;66;03m# Initialize centers\u001b[39;00m\n\u001b[1;32m-> 1461\u001b[0m     centers_init \u001b[38;5;241m=\u001b[39m \u001b[38;5;28mself\u001b[39m\u001b[38;5;241m.\u001b[39m_init_centroids(\n\u001b[0;32m   1462\u001b[0m         X, x_squared_norms\u001b[38;5;241m=\u001b[39mx_squared_norms, init\u001b[38;5;241m=\u001b[39minit, random_state\u001b[38;5;241m=\u001b[39mrandom_state\n\u001b[0;32m   1463\u001b[0m     )\n\u001b[0;32m   1464\u001b[0m     \u001b[38;5;28;01mif\u001b[39;00m \u001b[38;5;28mself\u001b[39m\u001b[38;5;241m.\u001b[39mverbose:\n\u001b[0;32m   1465\u001b[0m         \u001b[38;5;28mprint\u001b[39m(\u001b[38;5;124m\"\u001b[39m\u001b[38;5;124mInitialization complete\u001b[39m\u001b[38;5;124m\"\u001b[39m)\n",
      "File \u001b[1;32mc:\\Users\\Lenovo\\anaconda3\\Lib\\site-packages\\sklearn\\cluster\\_kmeans.py:989\u001b[0m, in \u001b[0;36m_BaseKMeans._init_centroids\u001b[1;34m(self, X, x_squared_norms, init, random_state, init_size, n_centroids)\u001b[0m\n\u001b[0;32m    986\u001b[0m     n_samples \u001b[38;5;241m=\u001b[39m X\u001b[38;5;241m.\u001b[39mshape[\u001b[38;5;241m0\u001b[39m]\n\u001b[0;32m    988\u001b[0m \u001b[38;5;28;01mif\u001b[39;00m \u001b[38;5;28misinstance\u001b[39m(init, \u001b[38;5;28mstr\u001b[39m) \u001b[38;5;129;01mand\u001b[39;00m init \u001b[38;5;241m==\u001b[39m \u001b[38;5;124m\"\u001b[39m\u001b[38;5;124mk-means++\u001b[39m\u001b[38;5;124m\"\u001b[39m:\n\u001b[1;32m--> 989\u001b[0m     centers, _ \u001b[38;5;241m=\u001b[39m _kmeans_plusplus(\n\u001b[0;32m    990\u001b[0m         X,\n\u001b[0;32m    991\u001b[0m         n_clusters,\n\u001b[0;32m    992\u001b[0m         random_state\u001b[38;5;241m=\u001b[39mrandom_state,\n\u001b[0;32m    993\u001b[0m         x_squared_norms\u001b[38;5;241m=\u001b[39mx_squared_norms,\n\u001b[0;32m    994\u001b[0m     )\n\u001b[0;32m    995\u001b[0m \u001b[38;5;28;01melif\u001b[39;00m \u001b[38;5;28misinstance\u001b[39m(init, \u001b[38;5;28mstr\u001b[39m) \u001b[38;5;129;01mand\u001b[39;00m init \u001b[38;5;241m==\u001b[39m \u001b[38;5;124m\"\u001b[39m\u001b[38;5;124mrandom\u001b[39m\u001b[38;5;124m\"\u001b[39m:\n\u001b[0;32m    996\u001b[0m     seeds \u001b[38;5;241m=\u001b[39m random_state\u001b[38;5;241m.\u001b[39mpermutation(n_samples)[:n_clusters]\n",
      "File \u001b[1;32mc:\\Users\\Lenovo\\anaconda3\\Lib\\site-packages\\sklearn\\cluster\\_kmeans.py:229\u001b[0m, in \u001b[0;36m_kmeans_plusplus\u001b[1;34m(X, n_clusters, x_squared_norms, random_state, n_local_trials)\u001b[0m\n\u001b[0;32m    225\u001b[0m \u001b[38;5;28;01mfor\u001b[39;00m c \u001b[38;5;129;01min\u001b[39;00m \u001b[38;5;28mrange\u001b[39m(\u001b[38;5;241m1\u001b[39m, n_clusters):\n\u001b[0;32m    226\u001b[0m     \u001b[38;5;66;03m# Choose center candidates by sampling with probability proportional\u001b[39;00m\n\u001b[0;32m    227\u001b[0m     \u001b[38;5;66;03m# to the squared distance to the closest existing center\u001b[39;00m\n\u001b[0;32m    228\u001b[0m     rand_vals \u001b[38;5;241m=\u001b[39m random_state\u001b[38;5;241m.\u001b[39muniform(size\u001b[38;5;241m=\u001b[39mn_local_trials) \u001b[38;5;241m*\u001b[39m current_pot\n\u001b[1;32m--> 229\u001b[0m     candidate_ids \u001b[38;5;241m=\u001b[39m np\u001b[38;5;241m.\u001b[39msearchsorted(stable_cumsum(closest_dist_sq), rand_vals)\n\u001b[0;32m    230\u001b[0m     \u001b[38;5;66;03m# XXX: numerical imprecision can result in a candidate_id out of range\u001b[39;00m\n\u001b[0;32m    231\u001b[0m     np\u001b[38;5;241m.\u001b[39mclip(candidate_ids, \u001b[38;5;28;01mNone\u001b[39;00m, closest_dist_sq\u001b[38;5;241m.\u001b[39msize \u001b[38;5;241m-\u001b[39m \u001b[38;5;241m1\u001b[39m, out\u001b[38;5;241m=\u001b[39mcandidate_ids)\n",
      "File \u001b[1;32mc:\\Users\\Lenovo\\anaconda3\\Lib\\site-packages\\sklearn\\utils\\extmath.py:1139\u001b[0m, in \u001b[0;36mstable_cumsum\u001b[1;34m(arr, axis, rtol, atol)\u001b[0m\n\u001b[0;32m   1116\u001b[0m \u001b[38;5;250m\u001b[39m\u001b[38;5;124;03m\"\"\"Use high precision for cumsum and check that final value matches sum.\u001b[39;00m\n\u001b[0;32m   1117\u001b[0m \n\u001b[0;32m   1118\u001b[0m \u001b[38;5;124;03mWarns if the final cumulative sum does not match the sum (up to the chosen\u001b[39;00m\n\u001b[1;32m   (...)\u001b[0m\n\u001b[0;32m   1136\u001b[0m \u001b[38;5;124;03m    Array with the cumulative sums along the chosen axis.\u001b[39;00m\n\u001b[0;32m   1137\u001b[0m \u001b[38;5;124;03m\"\"\"\u001b[39;00m\n\u001b[0;32m   1138\u001b[0m out \u001b[38;5;241m=\u001b[39m np\u001b[38;5;241m.\u001b[39mcumsum(arr, axis\u001b[38;5;241m=\u001b[39maxis, dtype\u001b[38;5;241m=\u001b[39mnp\u001b[38;5;241m.\u001b[39mfloat64)\n\u001b[1;32m-> 1139\u001b[0m expected \u001b[38;5;241m=\u001b[39m np\u001b[38;5;241m.\u001b[39msum(arr, axis\u001b[38;5;241m=\u001b[39maxis, dtype\u001b[38;5;241m=\u001b[39mnp\u001b[38;5;241m.\u001b[39mfloat64)\n\u001b[0;32m   1140\u001b[0m \u001b[38;5;28;01mif\u001b[39;00m \u001b[38;5;129;01mnot\u001b[39;00m np\u001b[38;5;241m.\u001b[39mall(\n\u001b[0;32m   1141\u001b[0m     np\u001b[38;5;241m.\u001b[39misclose(\n\u001b[0;32m   1142\u001b[0m         out\u001b[38;5;241m.\u001b[39mtake(\u001b[38;5;241m-\u001b[39m\u001b[38;5;241m1\u001b[39m, axis\u001b[38;5;241m=\u001b[39maxis), expected, rtol\u001b[38;5;241m=\u001b[39mrtol, atol\u001b[38;5;241m=\u001b[39matol, equal_nan\u001b[38;5;241m=\u001b[39m\u001b[38;5;28;01mTrue\u001b[39;00m\n\u001b[0;32m   1143\u001b[0m     )\n\u001b[0;32m   1144\u001b[0m ):\n\u001b[0;32m   1145\u001b[0m     warnings\u001b[38;5;241m.\u001b[39mwarn(\n\u001b[0;32m   1146\u001b[0m         \u001b[38;5;124m\"\u001b[39m\u001b[38;5;124mcumsum was found to be unstable: \u001b[39m\u001b[38;5;124m\"\u001b[39m\n\u001b[0;32m   1147\u001b[0m         \u001b[38;5;124m\"\u001b[39m\u001b[38;5;124mits last element does not correspond to sum\u001b[39m\u001b[38;5;124m\"\u001b[39m,\n\u001b[0;32m   1148\u001b[0m         \u001b[38;5;167;01mRuntimeWarning\u001b[39;00m,\n\u001b[0;32m   1149\u001b[0m     )\n",
      "File \u001b[1;32m<__array_function__ internals>:200\u001b[0m, in \u001b[0;36msum\u001b[1;34m(*args, **kwargs)\u001b[0m\n",
      "File \u001b[1;32mc:\\Users\\Lenovo\\anaconda3\\Lib\\site-packages\\numpy\\core\\fromnumeric.py:2324\u001b[0m, in \u001b[0;36msum\u001b[1;34m(a, axis, dtype, out, keepdims, initial, where)\u001b[0m\n\u001b[0;32m   2321\u001b[0m         \u001b[38;5;28;01mreturn\u001b[39;00m out\n\u001b[0;32m   2322\u001b[0m     \u001b[38;5;28;01mreturn\u001b[39;00m res\n\u001b[1;32m-> 2324\u001b[0m \u001b[38;5;28;01mreturn\u001b[39;00m _wrapreduction(a, np\u001b[38;5;241m.\u001b[39madd, \u001b[38;5;124m'\u001b[39m\u001b[38;5;124msum\u001b[39m\u001b[38;5;124m'\u001b[39m, axis, dtype, out, keepdims\u001b[38;5;241m=\u001b[39mkeepdims,\n\u001b[0;32m   2325\u001b[0m                       initial\u001b[38;5;241m=\u001b[39minitial, where\u001b[38;5;241m=\u001b[39mwhere)\n",
      "File \u001b[1;32mc:\\Users\\Lenovo\\anaconda3\\Lib\\site-packages\\numpy\\core\\fromnumeric.py:86\u001b[0m, in \u001b[0;36m_wrapreduction\u001b[1;34m(obj, ufunc, method, axis, dtype, out, **kwargs)\u001b[0m\n\u001b[0;32m     83\u001b[0m         \u001b[38;5;28;01melse\u001b[39;00m:\n\u001b[0;32m     84\u001b[0m             \u001b[38;5;28;01mreturn\u001b[39;00m reduction(axis\u001b[38;5;241m=\u001b[39maxis, out\u001b[38;5;241m=\u001b[39mout, \u001b[38;5;241m*\u001b[39m\u001b[38;5;241m*\u001b[39mpasskwargs)\n\u001b[1;32m---> 86\u001b[0m \u001b[38;5;28;01mreturn\u001b[39;00m ufunc\u001b[38;5;241m.\u001b[39mreduce(obj, axis, dtype, out, \u001b[38;5;241m*\u001b[39m\u001b[38;5;241m*\u001b[39mpasskwargs)\n",
      "\u001b[1;31mKeyboardInterrupt\u001b[0m: "
     ]
    }
   ],
   "source": [
    "# import numpy as np\n",
    "# import matplotlib.pyplot as plt\n",
    "# from sklearn.cluster import KMeans\n",
    "\n",
    "# # Select the features for clustering\n",
    "# X = merged_train[['lon', 'lat']]\n",
    "# inertia = []\n",
    "\n",
    "# # Calculate inertia for different numbers of clusters\n",
    "# for n_clusters in range(1, 15):\n",
    "#     kmeans = KMeans(n_clusters=n_clusters, random_state=42)\n",
    "#     kmeans.fit(X)\n",
    "#     inertia.append(kmeans.inertia_)\n",
    "\n",
    "# # Plot the inertia values\n",
    "# plt.plot(range(1, 15), inertia, marker='o')\n",
    "# plt.xlabel('Number of clusters')\n",
    "# plt.ylabel('Inertia')\n",
    "# plt.title('KMeans Elbow Method')\n",
    "# plt.show()\n",
    "\n",
    "# # Print the inertia values for reference\n",
    "# print(\"Inertia values:\", inertia)"
   ]
  },
  {
   "cell_type": "code",
   "execution_count": 90,
   "metadata": {},
   "outputs": [
    {
     "name": "stderr",
     "output_type": "stream",
     "text": [
      "Calculating Silhouette Score: 100%|██████████| 9/9 [00:54<00:00,  6.05s/it]\n"
     ]
    },
    {
     "data": {
      "image/png": "[encoded data removed]",
      "text/plain": [
       "<Figure size 640x480 with 1 Axes>"
      ]
     },
     "metadata": {},
     "output_type": "display_data"
    },
    {
     "name": "stdout",
     "output_type": "stream",
     "text": [
      "The optimal number of clusters is: 2\n"
     ]
    }
   ],
   "source": [
    "# import matplotlib.pyplot as plt\n",
    "# from sklearn.cluster import KMeans\n",
    "# from sklearn.metrics import silhouette_score\n",
    "# from tqdm import tqdm\n",
    "\n",
    "# # Assuming X is your data\n",
    "# # X = ...\n",
    "\n",
    "# silhouette = []\n",
    "\n",
    "# for n_clusters in tqdm(range(2, 11), desc='Calculating Silhouette Score'):\n",
    "#     kmeans = KMeans(n_clusters=n_clusters, random_state=42)\n",
    "#     kmeans.fit(X)\n",
    "#     silhouette.append(silhouette_score(X, kmeans.labels_,sample_size=10000))\n",
    "\n",
    "# # Plot the silhouette scores\n",
    "# plt.plot(range(2, 11), silhouette, marker='o')\n",
    "# plt.xlabel('Number of clusters')\n",
    "# plt.ylabel('Silhouette Score')\n",
    "# plt.title('KMeans Silhouette Score')\n",
    "# plt.show()\n",
    "\n",
    "# # Find the optimal number of clusters\n",
    "# optimal_clusters = range(2, 11)[silhouette.index(max(silhouette))]\n",
    "# print(f\"The optimal number of clusters is: {optimal_clusters}\")"
   ]
  },
  {
   "cell_type": "code",
   "execution_count": 96,
   "metadata": {},
   "outputs": [],
   "source": [
    "# from sklearn.cluster import KMeans\n",
    "\n",
    "# kmeans = KMeans(n_clusters=2, random_state=42)\n",
    "# merged_train['location_cluster'] = kmeans.fit_predict(merged_train[['lon','lat']])"
   ]
  },
  {
   "cell_type": "code",
   "execution_count": 97,
   "metadata": {},
   "outputs": [
    {
     "data": {
      "text/plain": [
       "create_dt            datetime64[ns]\n",
       "mdm_object_name            category\n",
       "mdm_model_id                  int64\n",
       "lon                         float64\n",
       "lat                         float64\n",
       "alt                           int64\n",
       "speed_gps                   float64\n",
       "direction                   float64\n",
       "accel_forward_nn            float64\n",
       "accel_braking_nn            float64\n",
       "accel_angular_nn            float64\n",
       "accel_vertical_nn           float64\n",
       "start_time           datetime64[ns]\n",
       "end_time             datetime64[ns]\n",
       "operation_kind_id             int64\n",
       "name                         object\n",
       "month                         int32\n",
       "day                           int32\n",
       "hour                          int32\n",
       "minute                        int32\n",
       "second                        int32\n",
       "day_of_week                   int32\n",
       "hour_sin                    float64\n",
       "hour_cos                    float64\n",
       "day_of_week_sin             float64\n",
       "day_of_week_cos             float64\n",
       "location_cluster              int32\n",
       "dtype: object"
      ]
     },
     "execution_count": 97,
     "metadata": {},
     "output_type": "execute_result"
    }
   ],
   "source": [
    "merged_train.dtypes"
   ]
  },
  {
   "cell_type": "code",
   "execution_count": 55,
   "metadata": {},
   "outputs": [
    {
     "data": {
      "text/html": [
       "<div>\n",
       "<style scoped>\n",
       "    .dataframe tbody tr th:only-of-type {\n",
       "        vertical-align: middle;\n",
       "    }\n",
       "\n",
       "    .dataframe tbody tr th {\n",
       "        vertical-align: top;\n",
       "    }\n",
       "\n",
       "    .dataframe thead th {\n",
       "        text-align: right;\n",
       "    }\n",
       "</style>\n",
       "<table border=\"1\" class=\"dataframe\">\n",
       "  <thead>\n",
       "    <tr style=\"text-align: right;\">\n",
       "      <th></th>\n",
       "      <th>create_dt</th>\n",
       "      <th>mdm_object_name</th>\n",
       "      <th>mdm_model_id</th>\n",
       "      <th>lon</th>\n",
       "      <th>lat</th>\n",
       "      <th>alt</th>\n",
       "      <th>speed_gps</th>\n",
       "      <th>direction</th>\n",
       "      <th>accel_forward_nn</th>\n",
       "      <th>accel_braking_nn</th>\n",
       "      <th>accel_angular_nn</th>\n",
       "      <th>accel_vertical_nn</th>\n",
       "    </tr>\n",
       "  </thead>\n",
       "  <tbody>\n",
       "    <tr>\n",
       "      <th>0</th>\n",
       "      <td>2023-09-29 08:03:27</td>\n",
       "      <td>1501</td>\n",
       "      <td>62</td>\n",
       "      <td>0.015931</td>\n",
       "      <td>-0.002470</td>\n",
       "      <td>-77</td>\n",
       "      <td>8.8</td>\n",
       "      <td>180.0</td>\n",
       "      <td>0.000</td>\n",
       "      <td>0.294</td>\n",
       "      <td>0.000</td>\n",
       "      <td>0.98</td>\n",
       "    </tr>\n",
       "    <tr>\n",
       "      <th>1</th>\n",
       "      <td>2023-09-29 08:03:28</td>\n",
       "      <td>1501</td>\n",
       "      <td>62</td>\n",
       "      <td>0.015946</td>\n",
       "      <td>-0.002493</td>\n",
       "      <td>-77</td>\n",
       "      <td>9.7</td>\n",
       "      <td>156.0</td>\n",
       "      <td>0.196</td>\n",
       "      <td>0.000</td>\n",
       "      <td>0.000</td>\n",
       "      <td>0.98</td>\n",
       "    </tr>\n",
       "    <tr>\n",
       "      <th>2</th>\n",
       "      <td>2023-09-29 08:03:33</td>\n",
       "      <td>1501</td>\n",
       "      <td>62</td>\n",
       "      <td>0.016007</td>\n",
       "      <td>-0.002581</td>\n",
       "      <td>-79</td>\n",
       "      <td>11.6</td>\n",
       "      <td>159.0</td>\n",
       "      <td>0.686</td>\n",
       "      <td>0.000</td>\n",
       "      <td>0.000</td>\n",
       "      <td>0.00</td>\n",
       "    </tr>\n",
       "    <tr>\n",
       "      <th>3</th>\n",
       "      <td>2023-09-29 08:03:34</td>\n",
       "      <td>1501</td>\n",
       "      <td>62</td>\n",
       "      <td>0.016053</td>\n",
       "      <td>-0.002634</td>\n",
       "      <td>-79</td>\n",
       "      <td>9.9</td>\n",
       "      <td>156.0</td>\n",
       "      <td>0.000</td>\n",
       "      <td>1.176</td>\n",
       "      <td>1.078</td>\n",
       "      <td>0.00</td>\n",
       "    </tr>\n",
       "    <tr>\n",
       "      <th>4</th>\n",
       "      <td>2023-09-29 08:03:35</td>\n",
       "      <td>1501</td>\n",
       "      <td>62</td>\n",
       "      <td>0.016084</td>\n",
       "      <td>-0.002657</td>\n",
       "      <td>-80</td>\n",
       "      <td>12.5</td>\n",
       "      <td>138.0</td>\n",
       "      <td>0.686</td>\n",
       "      <td>0.000</td>\n",
       "      <td>1.568</td>\n",
       "      <td>0.98</td>\n",
       "    </tr>\n",
       "    <tr>\n",
       "      <th>...</th>\n",
       "      <td>...</td>\n",
       "      <td>...</td>\n",
       "      <td>...</td>\n",
       "      <td>...</td>\n",
       "      <td>...</td>\n",
       "      <td>...</td>\n",
       "      <td>...</td>\n",
       "      <td>...</td>\n",
       "      <td>...</td>\n",
       "      <td>...</td>\n",
       "      <td>...</td>\n",
       "      <td>...</td>\n",
       "    </tr>\n",
       "    <tr>\n",
       "      <th>260106</th>\n",
       "      <td>2023-09-30 16:32:25</td>\n",
       "      <td>119</td>\n",
       "      <td>61</td>\n",
       "      <td>-0.041015</td>\n",
       "      <td>0.004648</td>\n",
       "      <td>229</td>\n",
       "      <td>0.0</td>\n",
       "      <td>318.0</td>\n",
       "      <td>0.000</td>\n",
       "      <td>0.000</td>\n",
       "      <td>0.000</td>\n",
       "      <td>0.00</td>\n",
       "    </tr>\n",
       "    <tr>\n",
       "      <th>260107</th>\n",
       "      <td>2023-09-30 16:32:30</td>\n",
       "      <td>119</td>\n",
       "      <td>61</td>\n",
       "      <td>-0.041015</td>\n",
       "      <td>0.004648</td>\n",
       "      <td>229</td>\n",
       "      <td>0.0</td>\n",
       "      <td>318.0</td>\n",
       "      <td>0.000</td>\n",
       "      <td>0.000</td>\n",
       "      <td>0.000</td>\n",
       "      <td>0.00</td>\n",
       "    </tr>\n",
       "    <tr>\n",
       "      <th>260108</th>\n",
       "      <td>2023-09-30 16:32:35</td>\n",
       "      <td>119</td>\n",
       "      <td>61</td>\n",
       "      <td>-0.041015</td>\n",
       "      <td>0.004648</td>\n",
       "      <td>229</td>\n",
       "      <td>0.0</td>\n",
       "      <td>318.0</td>\n",
       "      <td>0.000</td>\n",
       "      <td>0.000</td>\n",
       "      <td>0.000</td>\n",
       "      <td>0.00</td>\n",
       "    </tr>\n",
       "    <tr>\n",
       "      <th>260109</th>\n",
       "      <td>2023-09-30 16:32:40</td>\n",
       "      <td>119</td>\n",
       "      <td>61</td>\n",
       "      <td>-0.041015</td>\n",
       "      <td>0.004648</td>\n",
       "      <td>229</td>\n",
       "      <td>0.0</td>\n",
       "      <td>318.0</td>\n",
       "      <td>0.000</td>\n",
       "      <td>0.000</td>\n",
       "      <td>0.000</td>\n",
       "      <td>0.00</td>\n",
       "    </tr>\n",
       "    <tr>\n",
       "      <th>260110</th>\n",
       "      <td>2023-09-30 16:32:45</td>\n",
       "      <td>119</td>\n",
       "      <td>61</td>\n",
       "      <td>-0.041015</td>\n",
       "      <td>0.004648</td>\n",
       "      <td>229</td>\n",
       "      <td>0.0</td>\n",
       "      <td>318.0</td>\n",
       "      <td>0.000</td>\n",
       "      <td>0.000</td>\n",
       "      <td>0.000</td>\n",
       "      <td>0.00</td>\n",
       "    </tr>\n",
       "  </tbody>\n",
       "</table>\n",
       "<p>260111 rows × 12 columns</p>\n",
       "</div>"
      ],
      "text/plain": [
       "                  create_dt mdm_object_name  mdm_model_id       lon       lat   \n",
       "0       2023-09-29 08:03:27            1501            62  0.015931 -0.002470  \\\n",
       "1       2023-09-29 08:03:28            1501            62  0.015946 -0.002493   \n",
       "2       2023-09-29 08:03:33            1501            62  0.016007 -0.002581   \n",
       "3       2023-09-29 08:03:34            1501            62  0.016053 -0.002634   \n",
       "4       2023-09-29 08:03:35            1501            62  0.016084 -0.002657   \n",
       "...                     ...             ...           ...       ...       ...   \n",
       "260106  2023-09-30 16:32:25             119            61 -0.041015  0.004648   \n",
       "260107  2023-09-30 16:32:30             119            61 -0.041015  0.004648   \n",
       "260108  2023-09-30 16:32:35             119            61 -0.041015  0.004648   \n",
       "260109  2023-09-30 16:32:40             119            61 -0.041015  0.004648   \n",
       "260110  2023-09-30 16:32:45             119            61 -0.041015  0.004648   \n",
       "\n",
       "        alt  speed_gps  direction  accel_forward_nn  accel_braking_nn   \n",
       "0       -77        8.8      180.0             0.000             0.294  \\\n",
       "1       -77        9.7      156.0             0.196             0.000   \n",
       "2       -79       11.6      159.0             0.686             0.000   \n",
       "3       -79        9.9      156.0             0.000             1.176   \n",
       "4       -80       12.5      138.0             0.686             0.000   \n",
       "...     ...        ...        ...               ...               ...   \n",
       "260106  229        0.0      318.0             0.000             0.000   \n",
       "260107  229        0.0      318.0             0.000             0.000   \n",
       "260108  229        0.0      318.0             0.000             0.000   \n",
       "260109  229        0.0      318.0             0.000             0.000   \n",
       "260110  229        0.0      318.0             0.000             0.000   \n",
       "\n",
       "        accel_angular_nn  accel_vertical_nn  \n",
       "0                  0.000               0.98  \n",
       "1                  0.000               0.98  \n",
       "2                  0.000               0.00  \n",
       "3                  1.078               0.00  \n",
       "4                  1.568               0.98  \n",
       "...                  ...                ...  \n",
       "260106             0.000               0.00  \n",
       "260107             0.000               0.00  \n",
       "260108             0.000               0.00  \n",
       "260109             0.000               0.00  \n",
       "260110             0.000               0.00  \n",
       "\n",
       "[260111 rows x 12 columns]"
      ]
     },
     "execution_count": 55,
     "metadata": {},
     "output_type": "execute_result"
    }
   ],
   "source": [
    "val"
   ]
  },
  {
   "cell_type": "code",
   "execution_count": 31,
   "metadata": {},
   "outputs": [
    {
     "data": {
      "text/html": [
       "<div>\n",
       "<style scoped>\n",
       "    .dataframe tbody tr th:only-of-type {\n",
       "        vertical-align: middle;\n",
       "    }\n",
       "\n",
       "    .dataframe tbody tr th {\n",
       "        vertical-align: top;\n",
       "    }\n",
       "\n",
       "    .dataframe thead th {\n",
       "        text-align: right;\n",
       "    }\n",
       "</style>\n",
       "<table border=\"1\" class=\"dataframe\">\n",
       "  <thead>\n",
       "    <tr style=\"text-align: right;\">\n",
       "      <th></th>\n",
       "      <th>create_dt</th>\n",
       "      <th>mdm_object_name</th>\n",
       "      <th>mdm_model_id</th>\n",
       "      <th>lon</th>\n",
       "      <th>lat</th>\n",
       "      <th>alt</th>\n",
       "      <th>speed_gps</th>\n",
       "      <th>direction</th>\n",
       "      <th>accel_forward_nn</th>\n",
       "      <th>accel_braking_nn</th>\n",
       "      <th>...</th>\n",
       "      <th>month</th>\n",
       "      <th>day</th>\n",
       "      <th>hour</th>\n",
       "      <th>minute</th>\n",
       "      <th>second</th>\n",
       "      <th>day_of_week</th>\n",
       "      <th>hour_sin</th>\n",
       "      <th>hour_cos</th>\n",
       "      <th>day_of_week_sin</th>\n",
       "      <th>day_of_week_cos</th>\n",
       "    </tr>\n",
       "  </thead>\n",
       "  <tbody>\n",
       "    <tr>\n",
       "      <th>0</th>\n",
       "      <td>2023-08-09 08:02:54</td>\n",
       "      <td>1038</td>\n",
       "      <td>62</td>\n",
       "      <td>0.005753</td>\n",
       "      <td>0.004778</td>\n",
       "      <td>-50</td>\n",
       "      <td>0.0</td>\n",
       "      <td>326.0</td>\n",
       "      <td>0.0</td>\n",
       "      <td>0.0</td>\n",
       "      <td>...</td>\n",
       "      <td>8</td>\n",
       "      <td>9</td>\n",
       "      <td>8</td>\n",
       "      <td>2</td>\n",
       "      <td>54</td>\n",
       "      <td>2</td>\n",
       "      <td>0.866025</td>\n",
       "      <td>-0.500000</td>\n",
       "      <td>0.974928</td>\n",
       "      <td>-0.222521</td>\n",
       "    </tr>\n",
       "    <tr>\n",
       "      <th>1</th>\n",
       "      <td>2023-08-09 08:02:59</td>\n",
       "      <td>1038</td>\n",
       "      <td>62</td>\n",
       "      <td>0.005753</td>\n",
       "      <td>0.004778</td>\n",
       "      <td>-50</td>\n",
       "      <td>0.0</td>\n",
       "      <td>326.0</td>\n",
       "      <td>0.0</td>\n",
       "      <td>0.0</td>\n",
       "      <td>...</td>\n",
       "      <td>8</td>\n",
       "      <td>9</td>\n",
       "      <td>8</td>\n",
       "      <td>2</td>\n",
       "      <td>59</td>\n",
       "      <td>2</td>\n",
       "      <td>0.866025</td>\n",
       "      <td>-0.500000</td>\n",
       "      <td>0.974928</td>\n",
       "      <td>-0.222521</td>\n",
       "    </tr>\n",
       "    <tr>\n",
       "      <th>2</th>\n",
       "      <td>2023-08-09 08:03:04</td>\n",
       "      <td>1038</td>\n",
       "      <td>62</td>\n",
       "      <td>0.005753</td>\n",
       "      <td>0.004778</td>\n",
       "      <td>-50</td>\n",
       "      <td>0.0</td>\n",
       "      <td>326.0</td>\n",
       "      <td>0.0</td>\n",
       "      <td>0.0</td>\n",
       "      <td>...</td>\n",
       "      <td>8</td>\n",
       "      <td>9</td>\n",
       "      <td>8</td>\n",
       "      <td>3</td>\n",
       "      <td>4</td>\n",
       "      <td>2</td>\n",
       "      <td>0.866025</td>\n",
       "      <td>-0.500000</td>\n",
       "      <td>0.974928</td>\n",
       "      <td>-0.222521</td>\n",
       "    </tr>\n",
       "    <tr>\n",
       "      <th>3</th>\n",
       "      <td>2023-08-09 08:03:09</td>\n",
       "      <td>1038</td>\n",
       "      <td>62</td>\n",
       "      <td>0.005753</td>\n",
       "      <td>0.004778</td>\n",
       "      <td>-50</td>\n",
       "      <td>0.0</td>\n",
       "      <td>326.0</td>\n",
       "      <td>0.0</td>\n",
       "      <td>0.0</td>\n",
       "      <td>...</td>\n",
       "      <td>8</td>\n",
       "      <td>9</td>\n",
       "      <td>8</td>\n",
       "      <td>3</td>\n",
       "      <td>9</td>\n",
       "      <td>2</td>\n",
       "      <td>0.866025</td>\n",
       "      <td>-0.500000</td>\n",
       "      <td>0.974928</td>\n",
       "      <td>-0.222521</td>\n",
       "    </tr>\n",
       "    <tr>\n",
       "      <th>4</th>\n",
       "      <td>2023-08-09 08:03:14</td>\n",
       "      <td>1038</td>\n",
       "      <td>62</td>\n",
       "      <td>0.005753</td>\n",
       "      <td>0.004778</td>\n",
       "      <td>-50</td>\n",
       "      <td>0.0</td>\n",
       "      <td>326.0</td>\n",
       "      <td>0.0</td>\n",
       "      <td>0.0</td>\n",
       "      <td>...</td>\n",
       "      <td>8</td>\n",
       "      <td>9</td>\n",
       "      <td>8</td>\n",
       "      <td>3</td>\n",
       "      <td>14</td>\n",
       "      <td>2</td>\n",
       "      <td>0.866025</td>\n",
       "      <td>-0.500000</td>\n",
       "      <td>0.974928</td>\n",
       "      <td>-0.222521</td>\n",
       "    </tr>\n",
       "    <tr>\n",
       "      <th>...</th>\n",
       "      <td>...</td>\n",
       "      <td>...</td>\n",
       "      <td>...</td>\n",
       "      <td>...</td>\n",
       "      <td>...</td>\n",
       "      <td>...</td>\n",
       "      <td>...</td>\n",
       "      <td>...</td>\n",
       "      <td>...</td>\n",
       "      <td>...</td>\n",
       "      <td>...</td>\n",
       "      <td>...</td>\n",
       "      <td>...</td>\n",
       "      <td>...</td>\n",
       "      <td>...</td>\n",
       "      <td>...</td>\n",
       "      <td>...</td>\n",
       "      <td>...</td>\n",
       "      <td>...</td>\n",
       "      <td>...</td>\n",
       "      <td>...</td>\n",
       "    </tr>\n",
       "    <tr>\n",
       "      <th>500835</th>\n",
       "      <td>2023-12-15 15:54:26</td>\n",
       "      <td>125</td>\n",
       "      <td>61</td>\n",
       "      <td>0.007083</td>\n",
       "      <td>0.006013</td>\n",
       "      <td>-55</td>\n",
       "      <td>0.0</td>\n",
       "      <td>270.0</td>\n",
       "      <td>0.0</td>\n",
       "      <td>0.0</td>\n",
       "      <td>...</td>\n",
       "      <td>12</td>\n",
       "      <td>15</td>\n",
       "      <td>15</td>\n",
       "      <td>54</td>\n",
       "      <td>26</td>\n",
       "      <td>4</td>\n",
       "      <td>-0.707107</td>\n",
       "      <td>-0.707107</td>\n",
       "      <td>-0.433884</td>\n",
       "      <td>-0.900969</td>\n",
       "    </tr>\n",
       "    <tr>\n",
       "      <th>500836</th>\n",
       "      <td>2023-12-15 15:54:31</td>\n",
       "      <td>125</td>\n",
       "      <td>61</td>\n",
       "      <td>0.007083</td>\n",
       "      <td>0.006013</td>\n",
       "      <td>-55</td>\n",
       "      <td>0.0</td>\n",
       "      <td>270.0</td>\n",
       "      <td>0.0</td>\n",
       "      <td>0.0</td>\n",
       "      <td>...</td>\n",
       "      <td>12</td>\n",
       "      <td>15</td>\n",
       "      <td>15</td>\n",
       "      <td>54</td>\n",
       "      <td>31</td>\n",
       "      <td>4</td>\n",
       "      <td>-0.707107</td>\n",
       "      <td>-0.707107</td>\n",
       "      <td>-0.433884</td>\n",
       "      <td>-0.900969</td>\n",
       "    </tr>\n",
       "    <tr>\n",
       "      <th>500837</th>\n",
       "      <td>2023-12-15 15:54:36</td>\n",
       "      <td>125</td>\n",
       "      <td>61</td>\n",
       "      <td>0.007083</td>\n",
       "      <td>0.006013</td>\n",
       "      <td>-55</td>\n",
       "      <td>0.0</td>\n",
       "      <td>270.0</td>\n",
       "      <td>0.0</td>\n",
       "      <td>0.0</td>\n",
       "      <td>...</td>\n",
       "      <td>12</td>\n",
       "      <td>15</td>\n",
       "      <td>15</td>\n",
       "      <td>54</td>\n",
       "      <td>36</td>\n",
       "      <td>4</td>\n",
       "      <td>-0.707107</td>\n",
       "      <td>-0.707107</td>\n",
       "      <td>-0.433884</td>\n",
       "      <td>-0.900969</td>\n",
       "    </tr>\n",
       "    <tr>\n",
       "      <th>500838</th>\n",
       "      <td>2023-12-15 15:54:41</td>\n",
       "      <td>125</td>\n",
       "      <td>61</td>\n",
       "      <td>0.007083</td>\n",
       "      <td>0.006013</td>\n",
       "      <td>-55</td>\n",
       "      <td>0.0</td>\n",
       "      <td>270.0</td>\n",
       "      <td>0.0</td>\n",
       "      <td>0.0</td>\n",
       "      <td>...</td>\n",
       "      <td>12</td>\n",
       "      <td>15</td>\n",
       "      <td>15</td>\n",
       "      <td>54</td>\n",
       "      <td>41</td>\n",
       "      <td>4</td>\n",
       "      <td>-0.707107</td>\n",
       "      <td>-0.707107</td>\n",
       "      <td>-0.433884</td>\n",
       "      <td>-0.900969</td>\n",
       "    </tr>\n",
       "    <tr>\n",
       "      <th>500839</th>\n",
       "      <td>2023-12-15 15:54:46</td>\n",
       "      <td>125</td>\n",
       "      <td>61</td>\n",
       "      <td>0.007083</td>\n",
       "      <td>0.006013</td>\n",
       "      <td>-55</td>\n",
       "      <td>0.0</td>\n",
       "      <td>270.0</td>\n",
       "      <td>0.0</td>\n",
       "      <td>0.0</td>\n",
       "      <td>...</td>\n",
       "      <td>12</td>\n",
       "      <td>15</td>\n",
       "      <td>15</td>\n",
       "      <td>54</td>\n",
       "      <td>46</td>\n",
       "      <td>4</td>\n",
       "      <td>-0.707107</td>\n",
       "      <td>-0.707107</td>\n",
       "      <td>-0.433884</td>\n",
       "      <td>-0.900969</td>\n",
       "    </tr>\n",
       "  </tbody>\n",
       "</table>\n",
       "<p>493215 rows × 26 columns</p>\n",
       "</div>"
      ],
      "text/plain": [
       "                 create_dt mdm_object_name  mdm_model_id       lon       lat   \n",
       "0      2023-08-09 08:02:54            1038            62  0.005753  0.004778  \\\n",
       "1      2023-08-09 08:02:59            1038            62  0.005753  0.004778   \n",
       "2      2023-08-09 08:03:04            1038            62  0.005753  0.004778   \n",
       "3      2023-08-09 08:03:09            1038            62  0.005753  0.004778   \n",
       "4      2023-08-09 08:03:14            1038            62  0.005753  0.004778   \n",
       "...                    ...             ...           ...       ...       ...   \n",
       "500835 2023-12-15 15:54:26             125            61  0.007083  0.006013   \n",
       "500836 2023-12-15 15:54:31             125            61  0.007083  0.006013   \n",
       "500837 2023-12-15 15:54:36             125            61  0.007083  0.006013   \n",
       "500838 2023-12-15 15:54:41             125            61  0.007083  0.006013   \n",
       "500839 2023-12-15 15:54:46             125            61  0.007083  0.006013   \n",
       "\n",
       "        alt  speed_gps  direction  accel_forward_nn  accel_braking_nn  ...   \n",
       "0       -50        0.0      326.0               0.0               0.0  ...  \\\n",
       "1       -50        0.0      326.0               0.0               0.0  ...   \n",
       "2       -50        0.0      326.0               0.0               0.0  ...   \n",
       "3       -50        0.0      326.0               0.0               0.0  ...   \n",
       "4       -50        0.0      326.0               0.0               0.0  ...   \n",
       "...     ...        ...        ...               ...               ...  ...   \n",
       "500835  -55        0.0      270.0               0.0               0.0  ...   \n",
       "500836  -55        0.0      270.0               0.0               0.0  ...   \n",
       "500837  -55        0.0      270.0               0.0               0.0  ...   \n",
       "500838  -55        0.0      270.0               0.0               0.0  ...   \n",
       "500839  -55        0.0      270.0               0.0               0.0  ...   \n",
       "\n",
       "        month  day hour minute  second day_of_week  hour_sin  hour_cos   \n",
       "0           8    9    8      2      54           2  0.866025 -0.500000  \\\n",
       "1           8    9    8      2      59           2  0.866025 -0.500000   \n",
       "2           8    9    8      3       4           2  0.866025 -0.500000   \n",
       "3           8    9    8      3       9           2  0.866025 -0.500000   \n",
       "4           8    9    8      3      14           2  0.866025 -0.500000   \n",
       "...       ...  ...  ...    ...     ...         ...       ...       ...   \n",
       "500835     12   15   15     54      26           4 -0.707107 -0.707107   \n",
       "500836     12   15   15     54      31           4 -0.707107 -0.707107   \n",
       "500837     12   15   15     54      36           4 -0.707107 -0.707107   \n",
       "500838     12   15   15     54      41           4 -0.707107 -0.707107   \n",
       "500839     12   15   15     54      46           4 -0.707107 -0.707107   \n",
       "\n",
       "        day_of_week_sin  day_of_week_cos  \n",
       "0              0.974928        -0.222521  \n",
       "1              0.974928        -0.222521  \n",
       "2              0.974928        -0.222521  \n",
       "3              0.974928        -0.222521  \n",
       "4              0.974928        -0.222521  \n",
       "...                 ...              ...  \n",
       "500835        -0.433884        -0.900969  \n",
       "500836        -0.433884        -0.900969  \n",
       "500837        -0.433884        -0.900969  \n",
       "500838        -0.433884        -0.900969  \n",
       "500839        -0.433884        -0.900969  \n",
       "\n",
       "[493215 rows x 26 columns]"
      ]
     },
     "execution_count": 31,
     "metadata": {},
     "output_type": "execute_result"
    }
   ],
   "source": [
    "merged_train"
   ]
  },
  {
   "cell_type": "code",
   "execution_count": 102,
   "metadata": {},
   "outputs": [
    {
     "name": "stdout",
     "output_type": "stream",
     "text": [
      "   location_cluster  operation_kind_id   count  total_count  percentage\n",
      "0                 0                  0   17679       185442    9.533439\n",
      "1                 0                  1   10809       185442    5.828777\n",
      "2                 0                  2   93676       185442   50.514986\n",
      "3                 0                  3    2414       185442    1.301755\n",
      "4                 0                  5   60864       185442   32.821044\n",
      "5                 1                  0   51612       307773   16.769502\n",
      "6                 1                  1   19582       307773    6.362481\n",
      "7                 1                  2  133848       307773   43.489195\n",
      "8                 1                  3    3892       307773    1.264568\n",
      "9                 1                  5   98839       307773   32.114253\n"
     ]
    }
   ],
   "source": [
    "# percentage_df = merged_train.groupby(['location_cluster', 'operation_kind_id']).size().reset_index(name='count')\n",
    "# total_counts = merged_train.groupby('location_cluster').size().reset_index(name='total_count')\n",
    "# percentage_df = percentage_df.merge(total_counts, on='location_cluster')\n",
    "# percentage_df['percentage'] = (percentage_df['count'] / percentage_df['total_count']) * 100\n",
    "\n",
    "# print(percentage_df)\n",
    "\n"
   ]
  },
  {
   "cell_type": "code",
   "execution_count": 106,
   "metadata": {},
   "outputs": [
    {
     "data": {
      "image/png": "[encoded data removed]",
      "text/plain": [
       "<Figure size 1000x600 with 1 Axes>"
      ]
     },
     "metadata": {},
     "output_type": "display_data"
    },
    {
     "data": {
      "image/png": "[encoded data removed]",
      "text/plain": [
       "<Figure size 1000x600 with 1 Axes>"
      ]
     },
     "metadata": {},
     "output_type": "display_data"
    }
   ],
   "source": [
    "# for cluster in range(2):\n",
    "#     cluster_data = percentage_df[percentage_df['location_cluster'] == cluster]\n",
    "#     plt.figure(figsize=(10, 6))\n",
    "#     plt.bar(cluster_data['operation_kind_id'], cluster_data['percentage'])\n",
    "#     plt.xlabel('Operation Kind ID')\n",
    "#     plt.ylabel('Percentage')\n",
    "#     plt.title(f'Percentage of Operation Kind ID in Cluster {cluster}')\n",
    "#     plt.show()"
   ]
  },
  {
   "cell_type": "code",
   "execution_count": 30,
   "metadata": {},
   "outputs": [
    {
     "data": {
      "text/plain": [
       "create_dt            datetime64[ns]\n",
       "mdm_object_name            category\n",
       "mdm_model_id                  int64\n",
       "lon                         float64\n",
       "lat                         float64\n",
       "alt                           int64\n",
       "speed_gps                   float64\n",
       "direction                   float64\n",
       "accel_forward_nn            float64\n",
       "accel_braking_nn            float64\n",
       "accel_angular_nn            float64\n",
       "accel_vertical_nn           float64\n",
       "start_time           datetime64[ns]\n",
       "end_time             datetime64[ns]\n",
       "operation_kind_id             int64\n",
       "name                         object\n",
       "month                         int32\n",
       "day                           int32\n",
       "hour                          int32\n",
       "minute                        int32\n",
       "second                        int32\n",
       "day_of_week                   int32\n",
       "hour_sin                    float64\n",
       "hour_cos                    float64\n",
       "day_of_week_sin             float64\n",
       "day_of_week_cos             float64\n",
       "dtype: object"
      ]
     },
     "execution_count": 30,
     "metadata": {},
     "output_type": "execute_result"
    }
   ],
   "source": [
    "merged_train.dtypes"
   ]
  },
  {
   "cell_type": "code",
   "execution_count": 33,
   "metadata": {},
   "outputs": [],
   "source": [
    "train_final = merged_train.drop(columns=['start_time','end_time','name'])"
   ]
  },
  {
   "cell_type": "code",
   "execution_count": 40,
   "metadata": {},
   "outputs": [
    {
     "name": "stdout",
     "output_type": "stream",
     "text": [
      "(493215, 23)\n",
      "(260111, 22)\n"
     ]
    }
   ],
   "source": [
    "print(train_final.shape)\n",
    "print(val.shape)"
   ]
  },
  {
   "cell_type": "code",
   "execution_count": 34,
   "metadata": {},
   "outputs": [],
   "source": [
    "train_final.to_csv('train_new.csv', index=False)"
   ]
  },
  {
   "cell_type": "code",
   "execution_count": 42,
   "metadata": {},
   "outputs": [],
   "source": [
    "val.to_csv('val_new.csv', index=False)"
   ]
  },
  {
   "cell_type": "code",
   "execution_count": 43,
   "metadata": {},
   "outputs": [
    {
     "data": {
      "text/plain": [
       "Index(['create_dt', 'mdm_object_name', 'mdm_model_id', 'lon', 'lat', 'alt',\n",
       "       'speed_gps', 'direction', 'accel_forward_nn', 'accel_braking_nn',\n",
       "       'accel_angular_nn', 'accel_vertical_nn', 'operation_kind_id', 'month',\n",
       "       'day', 'hour', 'minute', 'second', 'day_of_week', 'hour_sin',\n",
       "       'hour_cos', 'day_of_week_sin', 'day_of_week_cos'],\n",
       "      dtype='object')"
      ]
     },
     "execution_count": 43,
     "metadata": {},
     "output_type": "execute_result"
    }
   ],
   "source": [
    "train_final.columns"
   ]
  },
  {
   "cell_type": "code",
   "execution_count": 45,
   "metadata": {},
   "outputs": [
    {
     "ename": "KeyError",
     "evalue": "'mdm_object_name'",
     "output_type": "error",
     "traceback": [
      "\u001b[1;31m---------------------------------------------------------------------------\u001b[0m",
      "\u001b[1;31mKeyError\u001b[0m                                  Traceback (most recent call last)",
      "File \u001b[1;32mc:\\Users\\Lenovo\\anaconda3\\Lib\\site-packages\\pandas\\core\\indexes\\base.py:3652\u001b[0m, in \u001b[0;36mIndex.get_loc\u001b[1;34m(self, key)\u001b[0m\n\u001b[0;32m   3651\u001b[0m \u001b[38;5;28;01mtry\u001b[39;00m:\n\u001b[1;32m-> 3652\u001b[0m     \u001b[38;5;28;01mreturn\u001b[39;00m \u001b[38;5;28mself\u001b[39m\u001b[38;5;241m.\u001b[39m_engine\u001b[38;5;241m.\u001b[39mget_loc(casted_key)\n\u001b[0;32m   3653\u001b[0m \u001b[38;5;28;01mexcept\u001b[39;00m \u001b[38;5;167;01mKeyError\u001b[39;00m \u001b[38;5;28;01mas\u001b[39;00m err:\n",
      "File \u001b[1;32mc:\\Users\\Lenovo\\anaconda3\\Lib\\site-packages\\pandas\\_libs\\index.pyx:147\u001b[0m, in \u001b[0;36mpandas._libs.index.IndexEngine.get_loc\u001b[1;34m()\u001b[0m\n",
      "File \u001b[1;32mc:\\Users\\Lenovo\\anaconda3\\Lib\\site-packages\\pandas\\_libs\\index.pyx:176\u001b[0m, in \u001b[0;36mpandas._libs.index.IndexEngine.get_loc\u001b[1;34m()\u001b[0m\n",
      "File \u001b[1;32mpandas\\_libs\\hashtable_class_helper.pxi:7080\u001b[0m, in \u001b[0;36mpandas._libs.hashtable.PyObjectHashTable.get_item\u001b[1;34m()\u001b[0m\n",
      "File \u001b[1;32mpandas\\_libs\\hashtable_class_helper.pxi:7088\u001b[0m, in \u001b[0;36mpandas._libs.hashtable.PyObjectHashTable.get_item\u001b[1;34m()\u001b[0m\n",
      "\u001b[1;31mKeyError\u001b[0m: 'mdm_object_name'",
      "\nThe above exception was the direct cause of the following exception:\n",
      "\u001b[1;31mKeyError\u001b[0m                                  Traceback (most recent call last)",
      "Cell \u001b[1;32mIn[45], line 2\u001b[0m\n\u001b[0;32m      1\u001b[0m \u001b[38;5;66;03m# list all the model_object_name in train_final and val \u001b[39;00m\n\u001b[1;32m----> 2\u001b[0m model_object_name_train \u001b[38;5;241m=\u001b[39m train_final[\u001b[38;5;124m'\u001b[39m\u001b[38;5;124mmdm_object_name\u001b[39m\u001b[38;5;124m'\u001b[39m]\u001b[38;5;241m.\u001b[39munique()\n\u001b[0;32m      3\u001b[0m model_object_name_val \u001b[38;5;241m=\u001b[39m val[\u001b[38;5;124m'\u001b[39m\u001b[38;5;124mmdm_object_name\u001b[39m\u001b[38;5;124m'\u001b[39m]\u001b[38;5;241m.\u001b[39munique()\n",
      "File \u001b[1;32mc:\\Users\\Lenovo\\anaconda3\\Lib\\site-packages\\pandas\\core\\frame.py:3761\u001b[0m, in \u001b[0;36mDataFrame.__getitem__\u001b[1;34m(self, key)\u001b[0m\n\u001b[0;32m   3759\u001b[0m \u001b[38;5;28;01mif\u001b[39;00m \u001b[38;5;28mself\u001b[39m\u001b[38;5;241m.\u001b[39mcolumns\u001b[38;5;241m.\u001b[39mnlevels \u001b[38;5;241m>\u001b[39m \u001b[38;5;241m1\u001b[39m:\n\u001b[0;32m   3760\u001b[0m     \u001b[38;5;28;01mreturn\u001b[39;00m \u001b[38;5;28mself\u001b[39m\u001b[38;5;241m.\u001b[39m_getitem_multilevel(key)\n\u001b[1;32m-> 3761\u001b[0m indexer \u001b[38;5;241m=\u001b[39m \u001b[38;5;28mself\u001b[39m\u001b[38;5;241m.\u001b[39mcolumns\u001b[38;5;241m.\u001b[39mget_loc(key)\n\u001b[0;32m   3762\u001b[0m \u001b[38;5;28;01mif\u001b[39;00m is_integer(indexer):\n\u001b[0;32m   3763\u001b[0m     indexer \u001b[38;5;241m=\u001b[39m [indexer]\n",
      "File \u001b[1;32mc:\\Users\\Lenovo\\anaconda3\\Lib\\site-packages\\pandas\\core\\indexes\\base.py:3654\u001b[0m, in \u001b[0;36mIndex.get_loc\u001b[1;34m(self, key)\u001b[0m\n\u001b[0;32m   3652\u001b[0m     \u001b[38;5;28;01mreturn\u001b[39;00m \u001b[38;5;28mself\u001b[39m\u001b[38;5;241m.\u001b[39m_engine\u001b[38;5;241m.\u001b[39mget_loc(casted_key)\n\u001b[0;32m   3653\u001b[0m \u001b[38;5;28;01mexcept\u001b[39;00m \u001b[38;5;167;01mKeyError\u001b[39;00m \u001b[38;5;28;01mas\u001b[39;00m err:\n\u001b[1;32m-> 3654\u001b[0m     \u001b[38;5;28;01mraise\u001b[39;00m \u001b[38;5;167;01mKeyError\u001b[39;00m(key) \u001b[38;5;28;01mfrom\u001b[39;00m \u001b[38;5;21;01merr\u001b[39;00m\n\u001b[0;32m   3655\u001b[0m \u001b[38;5;28;01mexcept\u001b[39;00m \u001b[38;5;167;01mTypeError\u001b[39;00m:\n\u001b[0;32m   3656\u001b[0m     \u001b[38;5;66;03m# If we have a listlike key, _check_indexing_error will raise\u001b[39;00m\n\u001b[0;32m   3657\u001b[0m     \u001b[38;5;66;03m#  InvalidIndexError. Otherwise we fall through and re-raise\u001b[39;00m\n\u001b[0;32m   3658\u001b[0m     \u001b[38;5;66;03m#  the TypeError.\u001b[39;00m\n\u001b[0;32m   3659\u001b[0m     \u001b[38;5;28mself\u001b[39m\u001b[38;5;241m.\u001b[39m_check_indexing_error(key)\n",
      "\u001b[1;31mKeyError\u001b[0m: 'mdm_object_name'"
     ]
    }
   ],
   "source": [
    "# list all the model_object_name in train_final and val \n",
    "model_object_name_train = train_final['mdm_object_name'].unique()\n",
    "model_object_name_val = val['mdm_object_name'].unique()\n"
   ]
  },
  {
   "cell_type": "code",
   "execution_count": 44,
   "metadata": {},
   "outputs": [
    {
     "ename": "ValueError",
     "evalue": "y contains previously unseen labels: [1404, 1501]",
     "output_type": "error",
     "traceback": [
      "\u001b[1;31m---------------------------------------------------------------------------\u001b[0m",
      "\u001b[1;31mValueError\u001b[0m                                Traceback (most recent call last)",
      "Cell \u001b[1;32mIn[44], line 5\u001b[0m\n\u001b[0;32m      3\u001b[0m train_final[\u001b[38;5;124m'\u001b[39m\u001b[38;5;124mmdm_object_name_enc\u001b[39m\u001b[38;5;124m'\u001b[39m] \u001b[38;5;241m=\u001b[39m le\u001b[38;5;241m.\u001b[39mfit_transform(train_final[\u001b[38;5;124m'\u001b[39m\u001b[38;5;124mmdm_object_name\u001b[39m\u001b[38;5;124m'\u001b[39m])\n\u001b[0;32m      4\u001b[0m train_final\u001b[38;5;241m.\u001b[39mdrop(columns\u001b[38;5;241m=\u001b[39m\u001b[38;5;124m'\u001b[39m\u001b[38;5;124mmdm_object_name\u001b[39m\u001b[38;5;124m'\u001b[39m, inplace\u001b[38;5;241m=\u001b[39m\u001b[38;5;28;01mTrue\u001b[39;00m)\n\u001b[1;32m----> 5\u001b[0m val[\u001b[38;5;124m'\u001b[39m\u001b[38;5;124mmdm_object_name_enc\u001b[39m\u001b[38;5;124m'\u001b[39m] \u001b[38;5;241m=\u001b[39m le\u001b[38;5;241m.\u001b[39mtransform(val[\u001b[38;5;124m'\u001b[39m\u001b[38;5;124mmdm_object_name\u001b[39m\u001b[38;5;124m'\u001b[39m])\n\u001b[0;32m      6\u001b[0m val\u001b[38;5;241m.\u001b[39mdrop(columns\u001b[38;5;241m=\u001b[39m\u001b[38;5;124m'\u001b[39m\u001b[38;5;124mmdm_object_name\u001b[39m\u001b[38;5;124m'\u001b[39m, inplace\u001b[38;5;241m=\u001b[39m\u001b[38;5;28;01mTrue\u001b[39;00m)\n",
      "File \u001b[1;32mc:\\Users\\Lenovo\\anaconda3\\Lib\\site-packages\\sklearn\\utils\\_set_output.py:140\u001b[0m, in \u001b[0;36m_wrap_method_output.<locals>.wrapped\u001b[1;34m(self, X, *args, **kwargs)\u001b[0m\n\u001b[0;32m    138\u001b[0m \u001b[38;5;129m@wraps\u001b[39m(f)\n\u001b[0;32m    139\u001b[0m \u001b[38;5;28;01mdef\u001b[39;00m \u001b[38;5;21mwrapped\u001b[39m(\u001b[38;5;28mself\u001b[39m, X, \u001b[38;5;241m*\u001b[39margs, \u001b[38;5;241m*\u001b[39m\u001b[38;5;241m*\u001b[39mkwargs):\n\u001b[1;32m--> 140\u001b[0m     data_to_wrap \u001b[38;5;241m=\u001b[39m f(\u001b[38;5;28mself\u001b[39m, X, \u001b[38;5;241m*\u001b[39margs, \u001b[38;5;241m*\u001b[39m\u001b[38;5;241m*\u001b[39mkwargs)\n\u001b[0;32m    141\u001b[0m     \u001b[38;5;28;01mif\u001b[39;00m \u001b[38;5;28misinstance\u001b[39m(data_to_wrap, \u001b[38;5;28mtuple\u001b[39m):\n\u001b[0;32m    142\u001b[0m         \u001b[38;5;66;03m# only wrap the first output for cross decomposition\u001b[39;00m\n\u001b[0;32m    143\u001b[0m         \u001b[38;5;28;01mreturn\u001b[39;00m (\n\u001b[0;32m    144\u001b[0m             _wrap_data_with_container(method, data_to_wrap[\u001b[38;5;241m0\u001b[39m], X, \u001b[38;5;28mself\u001b[39m),\n\u001b[0;32m    145\u001b[0m             \u001b[38;5;241m*\u001b[39mdata_to_wrap[\u001b[38;5;241m1\u001b[39m:],\n\u001b[0;32m    146\u001b[0m         )\n",
      "File \u001b[1;32mc:\\Users\\Lenovo\\anaconda3\\Lib\\site-packages\\sklearn\\preprocessing\\_label.py:139\u001b[0m, in \u001b[0;36mLabelEncoder.transform\u001b[1;34m(self, y)\u001b[0m\n\u001b[0;32m    136\u001b[0m \u001b[38;5;28;01mif\u001b[39;00m _num_samples(y) \u001b[38;5;241m==\u001b[39m \u001b[38;5;241m0\u001b[39m:\n\u001b[0;32m    137\u001b[0m     \u001b[38;5;28;01mreturn\u001b[39;00m np\u001b[38;5;241m.\u001b[39marray([])\n\u001b[1;32m--> 139\u001b[0m \u001b[38;5;28;01mreturn\u001b[39;00m _encode(y, uniques\u001b[38;5;241m=\u001b[39m\u001b[38;5;28mself\u001b[39m\u001b[38;5;241m.\u001b[39mclasses_)\n",
      "File \u001b[1;32mc:\\Users\\Lenovo\\anaconda3\\Lib\\site-packages\\sklearn\\utils\\_encode.py:231\u001b[0m, in \u001b[0;36m_encode\u001b[1;34m(values, uniques, check_unknown)\u001b[0m\n\u001b[0;32m    229\u001b[0m     diff \u001b[38;5;241m=\u001b[39m _check_unknown(values, uniques)\n\u001b[0;32m    230\u001b[0m     \u001b[38;5;28;01mif\u001b[39;00m diff:\n\u001b[1;32m--> 231\u001b[0m         \u001b[38;5;28;01mraise\u001b[39;00m \u001b[38;5;167;01mValueError\u001b[39;00m(\u001b[38;5;124mf\u001b[39m\u001b[38;5;124m\"\u001b[39m\u001b[38;5;124my contains previously unseen labels: \u001b[39m\u001b[38;5;132;01m{\u001b[39;00m\u001b[38;5;28mstr\u001b[39m(diff)\u001b[38;5;132;01m}\u001b[39;00m\u001b[38;5;124m\"\u001b[39m)\n\u001b[0;32m    232\u001b[0m \u001b[38;5;28;01mreturn\u001b[39;00m np\u001b[38;5;241m.\u001b[39msearchsorted(uniques, values)\n",
      "\u001b[1;31mValueError\u001b[0m: y contains previously unseen labels: [1404, 1501]"
     ]
    }
   ],
   "source": [
    "# Label Encoding for mdm_object_name\n",
    "le = LabelEncoder()\n",
    "train_final['mdm_object_name_enc'] = le.fit_transform(train_final['mdm_object_name'])\n",
    "train_final.drop(columns='mdm_object_name', inplace=True)\n",
    "val['mdm_object_name_enc'] = le.transform(val['mdm_object_name'])\n",
    "val.drop(columns='mdm_object_name', inplace=True)"
   ]
  },
  {
   "cell_type": "code",
   "execution_count": null,
   "metadata": {},
   "outputs": [],
   "source": [
    "le_target = LabelEncoder()\n",
    "y_train_enc = le_target.fit_transform(y_train)\n",
    "\n",
    "# To inverse transform later if needed\n",
    "# y_pred = le_target.inverse_transform(y_pred_enc)\n"
   ]
  }
 ],
 "metadata": {
  "kernelspec": {
   "display_name": "base",
   "language": "python",
   "name": "python3"
  },
  "language_info": {
   "codemirror_mode": {
    "name": "ipython",
    "version": 3
   },
   "file_extension": ".py",
   "mimetype": "text/x-python",
   "name": "python",
   "nbconvert_exporter": "python",
   "pygments_lexer": "ipython3",
   "version": "3.11.5"
  }
 },
 "nbformat": 4,
 "nbformat_minor": 2
}
