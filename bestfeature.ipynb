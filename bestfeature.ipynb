{
 "cells": [
  {
   "cell_type": "code",
   "execution_count": 1,
   "metadata": {},
   "outputs": [],
   "source": [
    "import pandas as pd\n",
    "import numpy as np\n",
    "from sklearn.model_selection import train_test_split, RandomizedSearchCV\n",
    "from sklearn.ensemble import RandomForestClassifier\n",
    "from sklearn.preprocessing import StandardScaler\n",
    "from sklearn.metrics import classification_report, confusion_matrix\n",
    "import matplotlib.pyplot as plt\n",
    "import seaborn as sns"
   ]
  },
  {
   "cell_type": "code",
   "execution_count": 2,
   "metadata": {},
   "outputs": [],
   "source": [
    "df = pd.read_csv('final_direct_train.csv')"
   ]
  },
  {
   "cell_type": "code",
   "execution_count": 3,
   "metadata": {},
   "outputs": [
    {
     "data": {
      "text/plain": [
       "label\n",
       "2    235251\n",
       "5    162839\n",
       "0     69216\n",
       "1     30780\n",
       "4     12968\n",
       "3      5016\n",
       "Name: count, dtype: int64"
      ]
     },
     "execution_count": 3,
     "metadata": {},
     "output_type": "execute_result"
    }
   ],
   "source": [
    "df['label'].value_counts()"
   ]
  },
  {
   "cell_type": "code",
   "execution_count": 4,
   "metadata": {},
   "outputs": [
    {
     "name": "stdout",
     "output_type": "stream",
     "text": [
      "(516070, 25)\n",
      "(503102, 25)\n"
     ]
    }
   ],
   "source": [
    "# train drop all the rows with a label = 4 \n",
    "print(df.shape)\n",
    "df = df[df['label'] != 4]\n",
    "print(df.shape)"
   ]
  },
  {
   "cell_type": "code",
   "execution_count": 5,
   "metadata": {},
   "outputs": [
    {
     "name": "stderr",
     "output_type": "stream",
     "text": [
      "c:\\Users\\Lenovo\\anaconda3\\Lib\\site-packages\\sklearn\\cluster\\_kmeans.py:870: FutureWarning: The default value of `n_init` will change from 10 to 'auto' in 1.4. Set the value of `n_init` explicitly to suppress the warning\n",
      "  warnings.warn(\n"
     ]
    }
   ],
   "source": [
    "from sklearn.cluster import KMeans\n",
    "\n",
    "kmeans = KMeans(n_clusters=8, random_state=42)\n",
    "df['location_cluster'] = kmeans.fit_predict(df[['lon','lat']])"
   ]
  },
  {
   "cell_type": "code",
   "execution_count": 15,
   "metadata": {},
   "outputs": [
    {
     "name": "stderr",
     "output_type": "stream",
     "text": [
      "Training Progress:  20%|██        | 1/5 [00:54<03:38, 54.57s/it]"
     ]
    },
    {
     "name": "stdout",
     "output_type": "stream",
     "text": [
      "F1 score: 0.6933\n",
      "Current feature set after update: ['speed_gps', 'lon', 'lat', 'direction', 'alt', 'accel_angular_nn', 'location_cluster', 'accel_vertical_nn', 'accel_forward_nn', 'accel_braking_nn', 'hour_cos', 'hour', 'hour_sin', 'day_of_week_sin', 'day', 'minute', 'day_of_week', 'day_of_week_cos', 'month', 'mdm_object_name']\n"
     ]
    },
    {
     "name": "stderr",
     "output_type": "stream",
     "text": [
      "Training Progress:  40%|████      | 2/5 [02:58<04:45, 95.10s/it]"
     ]
    },
    {
     "name": "stdout",
     "output_type": "stream",
     "text": [
      "F1 score: 0.7463\n",
      "Current feature set after update: ['speed_gps', 'lon', 'lat', 'direction', 'alt', 'accel_angular_nn', 'accel_vertical_nn', 'location_cluster', 'accel_forward_nn', 'accel_braking_nn', 'day', 'day_of_week', 'day_of_week_cos', 'hour_cos', 'hour', 'mdm_object_name', 'day_of_week_sin']\n"
     ]
    },
    {
     "name": "stderr",
     "output_type": "stream",
     "text": [
      "Training Progress:  60%|██████    | 3/5 [06:29<04:56, 148.29s/it]"
     ]
    },
    {
     "name": "stdout",
     "output_type": "stream",
     "text": [
      "F1 score: 0.8355\n",
      "Current feature set after update: ['speed_gps', 'lon', 'lat', 'direction', 'alt', 'accel_angular_nn', 'accel_vertical_nn', 'location_cluster', 'accel_forward_nn', 'accel_braking_nn', 'day', 'day_of_week', 'mdm_object_name', 'hour_cos']\n"
     ]
    },
    {
     "name": "stderr",
     "output_type": "stream",
     "text": [
      "Training Progress:  80%|████████  | 4/5 [10:43<03:10, 190.15s/it]"
     ]
    },
    {
     "name": "stdout",
     "output_type": "stream",
     "text": [
      "F1 score: 0.7668\n",
      "Current feature set after update: ['speed_gps', 'lon', 'lat', 'direction', 'alt', 'accel_angular_nn', 'location_cluster', 'accel_vertical_nn', 'accel_braking_nn', 'accel_forward_nn', 'day']\n"
     ]
    },
    {
     "name": "stderr",
     "output_type": "stream",
     "text": [
      "Training Progress: 100%|██████████| 5/5 [16:30<00:00, 198.05s/it]"
     ]
    },
    {
     "name": "stdout",
     "output_type": "stream",
     "text": [
      "F1 score: 0.8043\n",
      "Current feature set after update: ['speed_gps', 'lon', 'lat', 'alt', 'direction', 'accel_angular_nn', 'accel_vertical_nn', 'location_cluster', 'accel_braking_nn']\n",
      "Best F1 score: 0.8355459197882839\n",
      "Best feature set: ['speed_gps', 'lon', 'lat', 'direction', 'alt', 'accel_angular_nn', 'accel_vertical_nn', 'location_cluster', 'accel_forward_nn', 'accel_braking_nn', 'day', 'day_of_week', 'day_of_week_cos', 'hour_cos', 'hour', 'mdm_object_name', 'day_of_week_sin']\n"
     ]
    },
    {
     "name": "stderr",
     "output_type": "stream",
     "text": [
      "\n"
     ]
    }
   ],
   "source": [
    "import pandas as pd\n",
    "from sklearn.ensemble import RandomForestClassifier\n",
    "from sklearn.metrics import f1_score\n",
    "from sklearn.model_selection import TimeSeriesSplit\n",
    "from tqdm import tqdm\n",
    "import numpy as np\n",
    "import copy\n",
    "\n",
    "# Convert 'create_dt' to datetime if not already in datetime format\n",
    "df['create_dt'] = pd.to_datetime(df['create_dt'])\n",
    "\n",
    "# Sort the data by 'create_dt' to ensure chronological order\n",
    "df = df.sort_values(by='create_dt')\n",
    "\n",
    "# Define features and labels\n",
    "features = df.drop(columns=[\"label\",\"create_dt\"])  # Assuming 'label' is the target variable\n",
    "labels = df[\"label\"]\n",
    "\n",
    "# Best parameters from your previous optimization\n",
    "best_params = {\n",
    "    'bootstrap': False,\n",
    "    'class_weight': \"balanced\",\n",
    "    'criterion': 'entropy',\n",
    "    'max_depth': 10,\n",
    "    'min_samples_leaf': 1,\n",
    "    'min_samples_split': 5,\n",
    "    'n_estimators': 500\n",
    "}\n",
    "\n",
    "# Initialize the Random Forest classifier\n",
    "rf = RandomForestClassifier(**best_params, random_state=42)\n",
    "\n",
    "# TimeSeriesSplit for cross-validation\n",
    "tscv = TimeSeriesSplit(n_splits=5)\n",
    "\n",
    "# Initialize the best F1 score and feature set tracking\n",
    "best_f1 = 0\n",
    "best_feature_set = list(features.columns)  # Start with all features\n",
    "current_feature_set = list(features.columns)\n",
    "best_rf = None\n",
    "\n",
    "\n",
    "# Train the model with time-based splits\n",
    "for train_index, test_index in tqdm(tscv.split(features), total=tscv.get_n_splits(), desc=\"Training Progress\"):\n",
    "    X_train, X_test = features[current_feature_set].iloc[train_index], features[current_feature_set].iloc[test_index]\n",
    "    y_train, y_test = labels.iloc[train_index], labels.iloc[test_index]\n",
    "    \n",
    "    # Train the model on selected features (including 'create_dt')\n",
    "    rf.fit(X_train, y_train)\n",
    "\n",
    "    # Predict and evaluate F1 score\n",
    "    y_pred = rf.predict(X_test)\n",
    "    f1 = f1_score(y_test, y_pred, average='weighted')  # Assuming multiclass classification\n",
    "\n",
    "    print(f\"F1 score: {f1:.4f}\")\n",
    "\n",
    "    # Update best F1 score and model if necessary\n",
    "    if f1 > best_f1:\n",
    "        best_f1 = f1\n",
    "        best_feature_set = current_feature_set.copy()  # Update the best feature set\n",
    "        best_rf = copy.deepcopy(rf)  # Save the best model\n",
    "\n",
    "    \n",
    "    # Feature importance analysis\n",
    "    feature_importances = rf.feature_importances_\n",
    "    sorted_idx = np.argsort(feature_importances)[::-1]  # Sort in descending order of importance\n",
    "    \n",
    "    # Keep the top 70% of the most important features\n",
    "    num_features_to_keep = int(len(current_feature_set) * 0.85)\n",
    "    \n",
    "    # Dynamically update the current feature set\n",
    "    current_feature_set = [current_feature_set[i] for i in sorted_idx[:num_features_to_keep]]\n",
    "    \n",
    "    print(f\"Current feature set after update: {current_feature_set}\")\n",
    "\n",
    "print(\"Best F1 score:\", best_f1)\n",
    "print(\"Best feature set:\", best_feature_set)\n"
   ]
  },
  {
   "cell_type": "code",
   "execution_count": 16,
   "metadata": {},
   "outputs": [
    {
     "data": {
      "text/plain": [
       "['speed_gps',\n",
       " 'lon',\n",
       " 'lat',\n",
       " 'direction',\n",
       " 'alt',\n",
       " 'accel_angular_nn',\n",
       " 'accel_vertical_nn',\n",
       " 'location_cluster',\n",
       " 'accel_forward_nn',\n",
       " 'accel_braking_nn',\n",
       " 'day',\n",
       " 'day_of_week',\n",
       " 'day_of_week_cos',\n",
       " 'hour_cos',\n",
       " 'hour',\n",
       " 'mdm_object_name',\n",
       " 'day_of_week_sin']"
      ]
     },
     "execution_count": 16,
     "metadata": {},
     "output_type": "execute_result"
    }
   ],
   "source": [
    "best_feature_set"
   ]
  },
  {
   "cell_type": "code",
   "execution_count": 21,
   "metadata": {},
   "outputs": [],
   "source": [
    "# best_feature_set = ['speed_gps',\n",
    "#  'direction',\n",
    "#  'lon',\n",
    "#  'lat',\n",
    "#  'alt',\n",
    "#  'accel_angular_nn',\n",
    "#  'location_cluster',\n",
    "#  'accel_vertical_nn',\n",
    "#  'accel_braking_nn',\n",
    "#  'accel_forward_nn',\n",
    "#  'day_of_week']"
   ]
  },
  {
   "cell_type": "code",
   "execution_count": 19,
   "metadata": {},
   "outputs": [],
   "source": [
    "df = df[best_feature_set]"
   ]
  },
  {
   "cell_type": "code",
   "execution_count": 20,
   "metadata": {},
   "outputs": [
    {
     "data": {
      "text/html": [
       "<div>\n",
       "<style scoped>\n",
       "    .dataframe tbody tr th:only-of-type {\n",
       "        vertical-align: middle;\n",
       "    }\n",
       "\n",
       "    .dataframe tbody tr th {\n",
       "        vertical-align: top;\n",
       "    }\n",
       "\n",
       "    .dataframe thead th {\n",
       "        text-align: right;\n",
       "    }\n",
       "</style>\n",
       "<table border=\"1\" class=\"dataframe\">\n",
       "  <thead>\n",
       "    <tr style=\"text-align: right;\">\n",
       "      <th></th>\n",
       "      <th>speed_gps</th>\n",
       "      <th>direction</th>\n",
       "      <th>lon</th>\n",
       "      <th>lat</th>\n",
       "      <th>alt</th>\n",
       "      <th>accel_angular_nn</th>\n",
       "      <th>location_cluster</th>\n",
       "      <th>accel_vertical_nn</th>\n",
       "      <th>accel_braking_nn</th>\n",
       "      <th>accel_forward_nn</th>\n",
       "      <th>day_of_week</th>\n",
       "    </tr>\n",
       "  </thead>\n",
       "  <tbody>\n",
       "    <tr>\n",
       "      <th>278478</th>\n",
       "      <td>0.0</td>\n",
       "      <td>326.0</td>\n",
       "      <td>0.005753</td>\n",
       "      <td>0.004778</td>\n",
       "      <td>-50</td>\n",
       "      <td>0.000</td>\n",
       "      <td>2</td>\n",
       "      <td>0.00</td>\n",
       "      <td>0.000</td>\n",
       "      <td>0.000</td>\n",
       "      <td>2</td>\n",
       "    </tr>\n",
       "    <tr>\n",
       "      <th>278479</th>\n",
       "      <td>0.0</td>\n",
       "      <td>326.0</td>\n",
       "      <td>0.005753</td>\n",
       "      <td>0.004778</td>\n",
       "      <td>-50</td>\n",
       "      <td>0.000</td>\n",
       "      <td>2</td>\n",
       "      <td>0.00</td>\n",
       "      <td>0.000</td>\n",
       "      <td>0.000</td>\n",
       "      <td>2</td>\n",
       "    </tr>\n",
       "    <tr>\n",
       "      <th>278480</th>\n",
       "      <td>0.0</td>\n",
       "      <td>326.0</td>\n",
       "      <td>0.005753</td>\n",
       "      <td>0.004778</td>\n",
       "      <td>-50</td>\n",
       "      <td>0.000</td>\n",
       "      <td>2</td>\n",
       "      <td>0.00</td>\n",
       "      <td>0.000</td>\n",
       "      <td>0.000</td>\n",
       "      <td>2</td>\n",
       "    </tr>\n",
       "    <tr>\n",
       "      <th>278481</th>\n",
       "      <td>0.0</td>\n",
       "      <td>326.0</td>\n",
       "      <td>0.005753</td>\n",
       "      <td>0.004778</td>\n",
       "      <td>-50</td>\n",
       "      <td>0.000</td>\n",
       "      <td>2</td>\n",
       "      <td>0.00</td>\n",
       "      <td>0.000</td>\n",
       "      <td>0.000</td>\n",
       "      <td>2</td>\n",
       "    </tr>\n",
       "    <tr>\n",
       "      <th>278482</th>\n",
       "      <td>0.0</td>\n",
       "      <td>326.0</td>\n",
       "      <td>0.005753</td>\n",
       "      <td>0.004778</td>\n",
       "      <td>-50</td>\n",
       "      <td>0.000</td>\n",
       "      <td>2</td>\n",
       "      <td>0.00</td>\n",
       "      <td>0.000</td>\n",
       "      <td>0.000</td>\n",
       "      <td>2</td>\n",
       "    </tr>\n",
       "    <tr>\n",
       "      <th>...</th>\n",
       "      <td>...</td>\n",
       "      <td>...</td>\n",
       "      <td>...</td>\n",
       "      <td>...</td>\n",
       "      <td>...</td>\n",
       "      <td>...</td>\n",
       "      <td>...</td>\n",
       "      <td>...</td>\n",
       "      <td>...</td>\n",
       "      <td>...</td>\n",
       "      <td>...</td>\n",
       "    </tr>\n",
       "    <tr>\n",
       "      <th>278122</th>\n",
       "      <td>21.3</td>\n",
       "      <td>110.0</td>\n",
       "      <td>0.013819</td>\n",
       "      <td>0.002965</td>\n",
       "      <td>-51</td>\n",
       "      <td>0.098</td>\n",
       "      <td>5</td>\n",
       "      <td>0.98</td>\n",
       "      <td>0.000</td>\n",
       "      <td>0.000</td>\n",
       "      <td>4</td>\n",
       "    </tr>\n",
       "    <tr>\n",
       "      <th>278123</th>\n",
       "      <td>14.2</td>\n",
       "      <td>122.0</td>\n",
       "      <td>0.013979</td>\n",
       "      <td>0.002917</td>\n",
       "      <td>-51</td>\n",
       "      <td>0.000</td>\n",
       "      <td>5</td>\n",
       "      <td>0.00</td>\n",
       "      <td>0.686</td>\n",
       "      <td>0.000</td>\n",
       "      <td>4</td>\n",
       "    </tr>\n",
       "    <tr>\n",
       "      <th>278124</th>\n",
       "      <td>17.1</td>\n",
       "      <td>135.0</td>\n",
       "      <td>0.014139</td>\n",
       "      <td>0.002829</td>\n",
       "      <td>-51</td>\n",
       "      <td>0.000</td>\n",
       "      <td>5</td>\n",
       "      <td>0.00</td>\n",
       "      <td>0.784</td>\n",
       "      <td>0.000</td>\n",
       "      <td>4</td>\n",
       "    </tr>\n",
       "    <tr>\n",
       "      <th>278125</th>\n",
       "      <td>18.6</td>\n",
       "      <td>154.0</td>\n",
       "      <td>0.014171</td>\n",
       "      <td>0.002785</td>\n",
       "      <td>-50</td>\n",
       "      <td>0.294</td>\n",
       "      <td>5</td>\n",
       "      <td>0.98</td>\n",
       "      <td>0.000</td>\n",
       "      <td>0.392</td>\n",
       "      <td>4</td>\n",
       "    </tr>\n",
       "    <tr>\n",
       "      <th>278126</th>\n",
       "      <td>20.3</td>\n",
       "      <td>168.0</td>\n",
       "      <td>0.014219</td>\n",
       "      <td>0.002693</td>\n",
       "      <td>-51</td>\n",
       "      <td>1.274</td>\n",
       "      <td>5</td>\n",
       "      <td>0.98</td>\n",
       "      <td>0.000</td>\n",
       "      <td>0.000</td>\n",
       "      <td>4</td>\n",
       "    </tr>\n",
       "  </tbody>\n",
       "</table>\n",
       "<p>516070 rows × 11 columns</p>\n",
       "</div>"
      ],
      "text/plain": [
       "        speed_gps  direction       lon       lat  alt  accel_angular_nn   \n",
       "278478        0.0      326.0  0.005753  0.004778  -50             0.000  \\\n",
       "278479        0.0      326.0  0.005753  0.004778  -50             0.000   \n",
       "278480        0.0      326.0  0.005753  0.004778  -50             0.000   \n",
       "278481        0.0      326.0  0.005753  0.004778  -50             0.000   \n",
       "278482        0.0      326.0  0.005753  0.004778  -50             0.000   \n",
       "...           ...        ...       ...       ...  ...               ...   \n",
       "278122       21.3      110.0  0.013819  0.002965  -51             0.098   \n",
       "278123       14.2      122.0  0.013979  0.002917  -51             0.000   \n",
       "278124       17.1      135.0  0.014139  0.002829  -51             0.000   \n",
       "278125       18.6      154.0  0.014171  0.002785  -50             0.294   \n",
       "278126       20.3      168.0  0.014219  0.002693  -51             1.274   \n",
       "\n",
       "        location_cluster  accel_vertical_nn  accel_braking_nn   \n",
       "278478                 2               0.00             0.000  \\\n",
       "278479                 2               0.00             0.000   \n",
       "278480                 2               0.00             0.000   \n",
       "278481                 2               0.00             0.000   \n",
       "278482                 2               0.00             0.000   \n",
       "...                  ...                ...               ...   \n",
       "278122                 5               0.98             0.000   \n",
       "278123                 5               0.00             0.686   \n",
       "278124                 5               0.00             0.784   \n",
       "278125                 5               0.98             0.000   \n",
       "278126                 5               0.98             0.000   \n",
       "\n",
       "        accel_forward_nn  day_of_week  \n",
       "278478             0.000            2  \n",
       "278479             0.000            2  \n",
       "278480             0.000            2  \n",
       "278481             0.000            2  \n",
       "278482             0.000            2  \n",
       "...                  ...          ...  \n",
       "278122             0.000            4  \n",
       "278123             0.000            4  \n",
       "278124             0.000            4  \n",
       "278125             0.392            4  \n",
       "278126             0.000            4  \n",
       "\n",
       "[516070 rows x 11 columns]"
      ]
     },
     "execution_count": 20,
     "metadata": {},
     "output_type": "execute_result"
    }
   ],
   "source": [
    "df"
   ]
  },
  {
   "cell_type": "code",
   "execution_count": null,
   "metadata": {},
   "outputs": [],
   "source": []
  },
  {
   "cell_type": "code",
   "execution_count": 17,
   "metadata": {},
   "outputs": [],
   "source": [
    "valid = pd.read_csv('final_direct_valid.csv')"
   ]
  },
  {
   "cell_type": "code",
   "execution_count": 18,
   "metadata": {},
   "outputs": [],
   "source": [
    "valid['create_dt'] = pd.to_datetime(valid['create_dt'])\n"
   ]
  },
  {
   "cell_type": "code",
   "execution_count": 19,
   "metadata": {},
   "outputs": [
    {
     "name": "stderr",
     "output_type": "stream",
     "text": [
      "c:\\Users\\Lenovo\\anaconda3\\Lib\\site-packages\\sklearn\\cluster\\_kmeans.py:870: FutureWarning: The default value of `n_init` will change from 10 to 'auto' in 1.4. Set the value of `n_init` explicitly to suppress the warning\n",
      "  warnings.warn(\n"
     ]
    }
   ],
   "source": [
    "from sklearn.cluster import KMeans\n",
    "\n",
    "kmeans = KMeans(n_clusters=8, random_state=42)\n",
    "valid['location_cluster'] = kmeans.fit_predict(valid[['lon','lat']])"
   ]
  },
  {
   "cell_type": "code",
   "execution_count": 20,
   "metadata": {},
   "outputs": [],
   "source": [
    "X_valid = valid[best_feature_set]\n",
    "y_valid_pred = best_rf.predict(X_valid)"
   ]
  },
  {
   "cell_type": "code",
   "execution_count": 21,
   "metadata": {},
   "outputs": [
    {
     "name": "stdout",
     "output_type": "stream",
     "text": [
      "Submission file 'submission.csv' created successfully.\n",
      "Final submission saved as 'final_submission.csv'\n"
     ]
    }
   ],
   "source": [
    "# Step 3: Prepare the submission DataFrame\n",
    "submission_df = valid[['create_dt', 'mdm_object_name']].copy()  # Keep the required columns\n",
    "submission_df['operation_kind_id'] = y_valid_pred  # Assign predictions to 'operation_kind_id'\n",
    "\n",
    "# Save the submission DataFrame to a CSV file\n",
    "submission_df.to_csv('submission.csv', index=False)\n",
    "\n",
    "print(\"Submission file 'submission.csv' created successfully.\")\n",
    "\n",
    "# Step 4: Merge the submission with the original test set (telemetry_for_operations_validation.csv)\n",
    "sub1 = pd.read_csv('dataset/telemetry_for_operations_validation.csv')\n",
    "sub = pd.read_csv('submission.csv')\n",
    "\n",
    "# Perform a left merge on 'create_dt' and 'mdm_object_name'\n",
    "final_sub = pd.merge(sub1, sub[['create_dt', 'mdm_object_name', 'operation_kind_id']], \n",
    "                     on=['create_dt', 'mdm_object_name'], \n",
    "                     how='left')\n",
    "\n",
    "# Fill missing 'operation_kind_id' values with 0 (as per your requirement)\n",
    "final_sub['operation_kind_id'].fillna(0, inplace=True)\n",
    "\n",
    "# Ensure 'operation_kind_id' is an integer\n",
    "final_sub['operation_kind_id'] = final_sub['operation_kind_id'].astype(int)\n",
    "\n",
    "# Save the final result as a CSV file for submission\n",
    "final_sub.to_csv('final_submission.csv', index=False)\n",
    "\n",
    "print(\"Final submission saved as 'final_submission.csv'\")"
   ]
  },
  {
   "cell_type": "code",
   "execution_count": null,
   "metadata": {},
   "outputs": [],
   "source": []
  }
 ],
 "metadata": {
  "kernelspec": {
   "display_name": "base",
   "language": "python",
   "name": "python3"
  },
  "language_info": {
   "codemirror_mode": {
    "name": "ipython",
    "version": 3
   },
   "file_extension": ".py",
   "mimetype": "text/x-python",
   "name": "python",
   "nbconvert_exporter": "python",
   "pygments_lexer": "ipython3",
   "version": "3.11.5"
  }
 },
 "nbformat": 4,
 "nbformat_minor": 2
}
